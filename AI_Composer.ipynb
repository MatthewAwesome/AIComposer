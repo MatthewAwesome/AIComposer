{
  "nbformat": 4,
  "nbformat_minor": 0,
  "metadata": {
    "colab": {
      "name": "AI_Composer.ipynb",
      "provenance": [],
      "authorship_tag": "ABX9TyOLfLELnLLKE7v7LCS0ZQDZ",
      "include_colab_link": true
    },
    "kernelspec": {
      "name": "python3",
      "display_name": "Python 3"
    }
  },
  "cells": [
    {
      "cell_type": "markdown",
      "metadata": {
        "id": "view-in-github",
        "colab_type": "text"
      },
      "source": [
        "<a href=\"https://colab.research.google.com/github/MatthewAwesome/AIComposer/blob/master/AI_Composer.ipynb\" target=\"_parent\"><img src=\"https://colab.research.google.com/assets/colab-badge.svg\" alt=\"Open In Colab\"/></a>"
      ]
    },
    {
      "cell_type": "markdown",
      "metadata": {
        "id": "6pm7aY__tXWs",
        "colab_type": "text"
      },
      "source": [
        "#An AI Composer via Machine Learning\n",
        "\n",
        "The goal sought by this sequence of cell is straightforward: Use AI to compose a musical score that mashes up two songs of our choosing. \n",
        "\n",
        "Before beginning, you will need some MIDI files to play around with. You can download some [HERE](https://colinraffel.com/projects/lmd/#get)\n",
        "\n",
        "The final output is a MIDI file that can be downloaded for subseqent mixing. Or, if you so prefer, the dowloaded MIDI file can be used to generated a sheet music score. A drag-and-drop web tool is available [HERE](https://solmire.com/miditosheetmusic/).\n",
        "\n",
        "Snippets contained in the cells below expand upon [Magenta's MusicVAE tutorial Notebook](https://colab.research.google.com/github/magenta/magenta-demos/blob/master/colab-notebooks/MusicVAE.ipynb). \n",
        "\n",
        "The MusicVAE notebook provides additional examples and explanation.  \n",
        "\n",
        "###Let's get after it. "
      ]
    },
    {
      "cell_type": "markdown",
      "metadata": {
        "id": "yGgBwWcVtudm",
        "colab_type": "text"
      },
      "source": [
        "##Setting up the Environment"
      ]
    },
    {
      "cell_type": "code",
      "metadata": {
        "id": "y-SWE2C3M8SB",
        "colab_type": "code",
        "colab": {
          "base_uri": "https://localhost:8080/",
          "height": 70
        },
        "outputId": "983c8fb8-0d90-475f-e1b7-e05f92783776"
      },
      "source": [
        "# Create a Magenta Environment: \n",
        "\n",
        "#@title Setup Environment\n",
        "#@test {\"output\": \"ignore\"}\n",
        "\n",
        "import glob\n",
        "\n",
        "BASE_DIR = \"gs://download.magenta.tensorflow.org/models/music_vae/colab2\"\n",
        "\n",
        "print('Installing dependencies...')\n",
        "!apt-get update -qq && apt-get install -qq libfluidsynth1 fluid-soundfont-gm build-essential libasound2-dev libjack-dev\n",
        "!pip install -q pyfluidsynth\n",
        "!pip install -qU magenta\n",
        "\n",
        "# Hack to allow python to pick up the newly-installed fluidsynth lib.\n",
        "# This is only needed for the hosted Colab environment.\n",
        "import ctypes.util\n",
        "orig_ctypes_util_find_library = ctypes.util.find_library\n",
        "def proxy_find_library(lib):\n",
        "  if lib == 'fluidsynth':\n",
        "    return 'libfluidsynth.so.1'\n",
        "  else:\n",
        "    return orig_ctypes_util_find_library(lib)\n",
        "ctypes.util.find_library = proxy_find_library\n",
        "\n",
        "\n",
        "print('Importing libraries and defining some helper functions...')\n",
        "from google.colab import files\n",
        "import magenta.music as mm\n",
        "from magenta.models.music_vae import configs\n",
        "from magenta.models.music_vae.trained_model import TrainedModel\n",
        "import numpy as np\n",
        "import os\n",
        "import tensorflow.compat.v1 as tf\n",
        "\n",
        "tf.disable_v2_behavior()\n",
        "\n",
        "# Necessary until pyfluidsynth is updated (>1.2.5).\n",
        "import warnings\n",
        "warnings.filterwarnings(\"ignore\", category=DeprecationWarning)\n",
        "\n",
        "# A wrapper function to play a note sequence: \n",
        "def play(note_sequence):\n",
        "  mm.play_sequence(note_sequence, synth=mm.fluidsynth)\n",
        "\n",
        "# A function to interpolate two sequences: \n",
        "def interpolate(model, start_seq, end_seq, num_steps, max_length=32,\n",
        "                assert_same_length=True, temperature=0.5,\n",
        "                individual_duration=4.0):\n",
        "  \"\"\"Interpolates between a start and end sequence.\"\"\"\n",
        "  note_sequences = model.interpolate(\n",
        "      start_seq, end_seq,num_steps=num_steps, length=max_length,\n",
        "      temperature=temperature,\n",
        "      assert_same_length=assert_same_length)\n",
        "\n",
        "  print('Start Seq Reconstruction')\n",
        "  play(note_sequences[0])\n",
        "  print('End Seq Reconstruction')\n",
        "  play(note_sequences[-1])\n",
        "  print('Mean Sequence')\n",
        "  play(note_sequences[num_steps // 2])\n",
        "  print('Start -> End Interpolation')\n",
        "  interp_seq = mm.sequences_lib.concatenate_sequences(\n",
        "      note_sequences, [individual_duration] * len(note_sequences))\n",
        "  play(interp_seq)\n",
        "  mm.plot_sequence(interp_seq)\n",
        "  return interp_seq if num_steps >= 3 else note_sequences[num_steps // 2]\n",
        "\n",
        "def download(note_sequence, filename):\n",
        "  mm.sequence_proto_to_midi_file(note_sequence, filename)\n",
        "  files.download(filename)\n",
        "\n",
        "print('Done')"
      ],
      "execution_count": 3,
      "outputs": [
        {
          "output_type": "stream",
          "text": [
            "Installing dependencies...\n",
            "Importing libraries and defining some helper functions...\n",
            "Done\n"
          ],
          "name": "stdout"
        }
      ]
    },
    {
      "cell_type": "markdown",
      "metadata": {
        "id": "OAntif_vt7xp",
        "colab_type": "text"
      },
      "source": [
        "##Loading the models."
      ]
    },
    {
      "cell_type": "code",
      "metadata": {
        "id": "1WA1XS-uuElK",
        "colab_type": "code",
        "colab": {
          "base_uri": "https://localhost:8080/",
          "height": 1000
        },
        "outputId": "c2a0b5d4-908e-4ed7-9e8e-015fa8e2015b"
      },
      "source": [
        "# Grabbing the models: \n",
        "trio_models = {}\n",
        "hierdec_trio_16bar_config = configs.CONFIG_MAP['hierdec-trio_16bar']\n",
        "trio_models['hierdec_trio_16bar'] = TrainedModel(hierdec_trio_16bar_config, batch_size=1, checkpoint_dir_or_path=BASE_DIR + '/checkpoints/trio_16bar_hierdec.ckpt')\n",
        "#\n",
        "flat_trio_16bar_config = configs.CONFIG_MAP['flat-trio_16bar']\n",
        "trio_models['baseline_flat_trio_16bar'] = TrainedModel(flat_trio_16bar_config, batch_size=4, checkpoint_dir_or_path=BASE_DIR + '/checkpoints/trio_16bar_flat.ckpt')"
      ],
      "execution_count": 2,
      "outputs": [
        {
          "output_type": "stream",
          "text": [
            "INFO:tensorflow:Building MusicVAE model with BidirectionalLstmEncoder, HierarchicalLstmDecoder, and hparams:\n",
            "{'max_seq_len': 256, 'z_size': 512, 'free_bits': 256, 'max_beta': 0.2, 'beta_rate': 0.0, 'batch_size': 1, 'grad_clip': 1.0, 'clip_mode': 'global_norm', 'grad_norm_clip_to_zero': 10000, 'learning_rate': 0.001, 'decay_rate': 0.9999, 'min_learning_rate': 1e-05, 'conditional': True, 'dec_rnn_size': [1024, 1024], 'enc_rnn_size': [2048, 2048], 'dropout_keep_prob': 1.0, 'sampling_schedule': 'constant', 'sampling_rate': 0.0, 'use_cudnn': False, 'residual_encoder': False, 'residual_decoder': False, 'control_preprocessing_rnn_size': [256]}\n",
            "INFO:tensorflow:\n",
            "Encoder Cells (bidirectional):\n",
            "  units: [2048, 2048]\n",
            "\n",
            "WARNING:tensorflow:From /usr/local/lib/python3.6/dist-packages/magenta/models/music_vae/lstm_utils.py:39: MultiRNNCell.__init__ (from tensorflow.python.keras.layers.legacy_rnn.rnn_cell_impl) is deprecated and will be removed in a future version.\n",
            "Instructions for updating:\n",
            "This class is equivalent as tf.keras.layers.StackedRNNCells, and will be replaced by that in Tensorflow 2.0.\n",
            "INFO:tensorflow:\n",
            "Hierarchical Decoder:\n",
            "  input length: 256\n",
            "  level output lengths: [16, 16]\n",
            "\n",
            "INFO:tensorflow:\n",
            "Decoder Cells:\n",
            "  units: [1024, 1024]\n",
            "\n",
            "INFO:tensorflow:\n",
            "Decoder Cells:\n",
            "  units: [1024, 1024]\n",
            "\n",
            "INFO:tensorflow:\n",
            "Decoder Cells:\n",
            "  units: [1024, 1024]\n",
            "\n",
            "WARNING:tensorflow:From /usr/local/lib/python3.6/dist-packages/magenta/models/music_vae/lstm_utils.py:99: dense (from tensorflow.python.keras.legacy_tf_layers.core) is deprecated and will be removed in a future version.\n",
            "Instructions for updating:\n",
            "Use keras.layers.Dense instead.\n",
            "WARNING:tensorflow:From /usr/local/lib/python3.6/dist-packages/tensorflow/python/keras/legacy_tf_layers/core.py:187: Layer.apply (from tensorflow.python.keras.engine.base_layer_v1) is deprecated and will be removed in a future version.\n",
            "Instructions for updating:\n",
            "Please use `layer.__call__` method instead.\n",
            "WARNING:tensorflow:From /usr/local/lib/python3.6/dist-packages/magenta/contrib/rnn.py:751: Layer.add_variable (from tensorflow.python.keras.engine.base_layer_v1) is deprecated and will be removed in a future version.\n",
            "Instructions for updating:\n",
            "Please use `layer.add_weight` method instead.\n",
            "WARNING:tensorflow:From /usr/local/lib/python3.6/dist-packages/magenta/models/music_vae/base_model.py:189: to_float (from tensorflow.python.ops.math_ops) is deprecated and will be removed in a future version.\n",
            "Instructions for updating:\n",
            "Use `tf.cast` instead.\n",
            "WARNING:tensorflow:From /usr/local/lib/python3.6/dist-packages/magenta/contrib/rnn.py:474: bidirectional_dynamic_rnn (from tensorflow.python.ops.rnn) is deprecated and will be removed in a future version.\n",
            "Instructions for updating:\n",
            "Please use `keras.layers.Bidirectional(keras.layers.RNN(cell))`, which is equivalent to this API\n",
            "WARNING:tensorflow:From /usr/local/lib/python3.6/dist-packages/tensorflow/python/ops/rnn.py:447: dynamic_rnn (from tensorflow.python.ops.rnn) is deprecated and will be removed in a future version.\n",
            "Instructions for updating:\n",
            "Please use `keras.layers.RNN(cell)`, which is equivalent to this API\n",
            "WARNING:tensorflow:From /usr/local/lib/python3.6/dist-packages/tensorflow/python/ops/linalg/linear_operator_diag.py:166: calling LinearOperator.__init__ (from tensorflow.python.ops.linalg.linear_operator) with graph_parents is deprecated and will be removed in a future version.\n",
            "Instructions for updating:\n",
            "Do not pass `graph_parents`.  They will  no longer be used.\n",
            "INFO:tensorflow:Restoring parameters from gs://download.magenta.tensorflow.org/models/music_vae/colab2/checkpoints/trio_16bar_hierdec.ckpt\n",
            "INFO:tensorflow:Building MusicVAE model with BidirectionalLstmEncoder, MultiOutCategoricalLstmDecoder, and hparams:\n",
            "{'max_seq_len': 256, 'z_size': 512, 'free_bits': 0.0, 'max_beta': 1.0, 'beta_rate': 0.0, 'batch_size': 4, 'grad_clip': 1.0, 'clip_mode': 'global_norm', 'grad_norm_clip_to_zero': 10000, 'learning_rate': 0.001, 'decay_rate': 0.9999, 'min_learning_rate': 1e-05, 'conditional': True, 'dec_rnn_size': [2048, 2048, 2048], 'enc_rnn_size': [2048, 2048], 'dropout_keep_prob': 1.0, 'sampling_schedule': 'constant', 'sampling_rate': 0.0, 'use_cudnn': False, 'residual_encoder': False, 'residual_decoder': False, 'control_preprocessing_rnn_size': [256]}\n",
            "INFO:tensorflow:\n",
            "Encoder Cells (bidirectional):\n",
            "  units: [2048, 2048]\n",
            "\n",
            "INFO:tensorflow:\n",
            "Decoder Cells:\n",
            "  units: [2048, 2048, 2048]\n",
            "\n",
            "INFO:tensorflow:Restoring parameters from gs://download.magenta.tensorflow.org/models/music_vae/colab2/checkpoints/trio_16bar_flat.ckpt\n"
          ],
          "name": "stdout"
        }
      ]
    },
    {
      "cell_type": "markdown",
      "metadata": {
        "id": "sE93oCy2uPKB",
        "colab_type": "text"
      },
      "source": [
        "##Load up the MIDI files."
      ]
    },
    {
      "cell_type": "markdown",
      "metadata": {
        "id": "LNro50czuT_Z",
        "colab_type": "text"
      },
      "source": [
        "###Load the first track"
      ]
    },
    {
      "cell_type": "code",
      "metadata": {
        "id": "a_P6CKJpuXjO",
        "colab_type": "code",
        "colab": {
          "resources": {
            "http://localhost:8080/nbextensions/google.colab/files.js": {
              "data": "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",
              "ok": true,
              "headers": [
                [
                  "content-type",
                  "application/javascript"
                ]
              ],
              "status": 200,
              "status_text": ""
            }
          },
          "base_uri": "https://localhost:8080/",
          "height": 73
        },
        "outputId": "078bd83b-1980-4d3f-9df3-a128e512723a"
      },
      "source": [
        "# We use two cells here. One to load a first song. \n",
        "songs = []\n",
        "songs.append(files.upload().values() or input_trio_midi_data)"
      ],
      "execution_count": 4,
      "outputs": [
        {
          "output_type": "display_data",
          "data": {
            "text/html": [
              "\n",
              "     <input type=\"file\" id=\"files-c3008b8d-b3a0-4530-b2b7-52583331c04a\" name=\"files[]\" multiple disabled\n",
              "        style=\"border:none\" />\n",
              "     <output id=\"result-c3008b8d-b3a0-4530-b2b7-52583331c04a\">\n",
              "      Upload widget is only available when the cell has been executed in the\n",
              "      current browser session. Please rerun this cell to enable.\n",
              "      </output>\n",
              "      <script src=\"/nbextensions/google.colab/files.js\"></script> "
            ],
            "text/plain": [
              "<IPython.core.display.HTML object>"
            ]
          },
          "metadata": {
            "tags": []
          }
        },
        {
          "output_type": "stream",
          "text": [
            "Saving Band On The Run.mid to Band On The Run.mid\n"
          ],
          "name": "stdout"
        }
      ]
    },
    {
      "cell_type": "markdown",
      "metadata": {
        "id": "VVo6VG78uZ2b",
        "colab_type": "text"
      },
      "source": [
        "###Load the second track"
      ]
    },
    {
      "cell_type": "code",
      "metadata": {
        "id": "0IY2aA-nucoP",
        "colab_type": "code",
        "colab": {
          "resources": {
            "http://localhost:8080/nbextensions/google.colab/files.js": {
              "data": "Ly8gQ29weXJpZ2h0IDIwMTcgR29vZ2xlIExMQwovLwovLyBMaWNlbnNlZCB1bmRlciB0aGUgQXBhY2hlIExpY2Vuc2UsIFZlcnNpb24gMi4wICh0aGUgIkxpY2Vuc2UiKTsKLy8geW91IG1heSBub3QgdXNlIHRoaXMgZmlsZSBleGNlcHQgaW4gY29tcGxpYW5jZSB3aXRoIHRoZSBMaWNlbnNlLgovLyBZb3UgbWF5IG9idGFpbiBhIGNvcHkgb2YgdGhlIExpY2Vuc2UgYXQKLy8KLy8gICAgICBodHRwOi8vd3d3LmFwYWNoZS5vcmcvbGljZW5zZXMvTElDRU5TRS0yLjAKLy8KLy8gVW5sZXNzIHJlcXVpcmVkIGJ5IGFwcGxpY2FibGUgbGF3IG9yIGFncmVlZCB0byBpbiB3cml0aW5nLCBzb2Z0d2FyZQovLyBkaXN0cmlidXRlZCB1bmRlciB0aGUgTGljZW5zZSBpcyBkaXN0cmlidXRlZCBvbiBhbiAiQVMgSVMiIEJBU0lTLAovLyBXSVRIT1VUIFdBUlJBTlRJRVMgT1IgQ09ORElUSU9OUyBPRiBBTlkgS0lORCwgZWl0aGVyIGV4cHJlc3Mgb3IgaW1wbGllZC4KLy8gU2VlIHRoZSBMaWNlbnNlIGZvciB0aGUgc3BlY2lmaWMgbGFuZ3VhZ2UgZ292ZXJuaW5nIHBlcm1pc3Npb25zIGFuZAovLyBsaW1pdGF0aW9ucyB1bmRlciB0aGUgTGljZW5zZS4KCi8qKgogKiBAZmlsZW92ZXJ2aWV3IEhlbHBlcnMgZm9yIGdvb2dsZS5jb2xhYiBQeXRob24gbW9kdWxlLgogKi8KKGZ1bmN0aW9uKHNjb3BlKSB7CmZ1bmN0aW9uIHNwYW4odGV4dCwgc3R5bGVBdHRyaWJ1dGVzID0ge30pIHsKICBjb25zdCBlbGVtZW50ID0gZG9jdW1lbnQuY3JlYXRlRWxlbWVudCgnc3BhbicpOwogIGVsZW1lbnQudGV4dENvbnRlbnQgPSB0ZXh0OwogIGZvciAoY29uc3Qga2V5IG9mIE9iamVjdC5rZXlzKHN0eWxlQXR0cmlidXRlcykpIHsKICAgIGVsZW1lbnQuc3R5bGVba2V5XSA9IHN0eWxlQXR0cmlidXRlc1trZXldOwogIH0KICByZXR1cm4gZWxlbWVudDsKfQoKLy8gTWF4IG51bWJlciBvZiBieXRlcyB3aGljaCB3aWxsIGJlIHVwbG9hZGVkIGF0IGEgdGltZS4KY29uc3QgTUFYX1BBWUxPQURfU0laRSA9IDEwMCAqIDEwMjQ7CgpmdW5jdGlvbiBfdXBsb2FkRmlsZXMoaW5wdXRJZCwgb3V0cHV0SWQpIHsKICBjb25zdCBzdGVwcyA9IHVwbG9hZEZpbGVzU3RlcChpbnB1dElkLCBvdXRwdXRJZCk7CiAgY29uc3Qgb3V0cHV0RWxlbWVudCA9IGRvY3VtZW50LmdldEVsZW1lbnRCeUlkKG91dHB1dElkKTsKICAvLyBDYWNoZSBzdGVwcyBvbiB0aGUgb3V0cHV0RWxlbWVudCB0byBtYWtlIGl0IGF2YWlsYWJsZSBmb3IgdGhlIG5leHQgY2FsbAogIC8vIHRvIHVwbG9hZEZpbGVzQ29udGludWUgZnJvbSBQeXRob24uCiAgb3V0cHV0RWxlbWVudC5zdGVwcyA9IHN0ZXBzOwoKICByZXR1cm4gX3VwbG9hZEZpbGVzQ29udGludWUob3V0cHV0SWQpOwp9CgovLyBUaGlzIGlzIHJvdWdobHkgYW4gYXN5bmMgZ2VuZXJhdG9yIChub3Qgc3VwcG9ydGVkIGluIHRoZSBicm93c2VyIHlldCksCi8vIHdoZXJlIHRoZXJlIGFyZSBtdWx0aXBsZSBhc3luY2hyb25vdXMgc3RlcHMgYW5kIHRoZSBQeXRob24gc2lkZSBpcyBnb2luZwovLyB0byBwb2xsIGZvciBjb21wbGV0aW9uIG9mIGVhY2ggc3RlcC4KLy8gVGhpcyB1c2VzIGEgUHJvbWlzZSB0byBibG9jayB0aGUgcHl0aG9uIHNpZGUgb24gY29tcGxldGlvbiBvZiBlYWNoIHN0ZXAsCi8vIHRoZW4gcGFzc2VzIHRoZSByZXN1bHQgb2YgdGhlIHByZXZpb3VzIHN0ZXAgYXMgdGhlIGlucHV0IHRvIHRoZSBuZXh0IHN0ZXAuCmZ1bmN0aW9uIF91cGxvYWRGaWxlc0NvbnRpbnVlKG91dHB1dElkKSB7CiAgY29uc3Qgb3V0cHV0RWxlbWVudCA9IGRvY3VtZW50LmdldEVsZW1lbnRCeUlkKG91dHB1dElkKTsKICBjb25zdCBzdGVwcyA9IG91dHB1dEVsZW1lbnQuc3RlcHM7CgogIGNvbnN0IG5leHQgPSBzdGVwcy5uZXh0KG91dHB1dEVsZW1lbnQubGFzdFByb21pc2VWYWx1ZSk7CiAgcmV0dXJuIFByb21pc2UucmVzb2x2ZShuZXh0LnZhbHVlLnByb21pc2UpLnRoZW4oKHZhbHVlKSA9PiB7CiAgICAvLyBDYWNoZSB0aGUgbGFzdCBwcm9taXNlIHZhbHVlIHRvIG1ha2UgaXQgYXZhaWxhYmxlIHRvIHRoZSBuZXh0CiAgICAvLyBzdGVwIG9mIHRoZSBnZW5lcmF0b3IuCiAgICBvdXRwdXRFbGVtZW50Lmxhc3RQcm9taXNlVmFsdWUgPSB2YWx1ZTsKICAgIHJldHVybiBuZXh0LnZhbHVlLnJlc3BvbnNlOwogIH0pOwp9CgovKioKICogR2VuZXJhdG9yIGZ1bmN0aW9uIHdoaWNoIGlzIGNhbGxlZCBiZXR3ZWVuIGVhY2ggYXN5bmMgc3RlcCBvZiB0aGUgdXBsb2FkCiAqIHByb2Nlc3MuCiAqIEBwYXJhbSB7c3RyaW5nfSBpbnB1dElkIEVsZW1lbnQgSUQgb2YgdGhlIGlucHV0IGZpbGUgcGlja2VyIGVsZW1lbnQuCiAqIEBwYXJhbSB7c3RyaW5nfSBvdXRwdXRJZCBFbGVtZW50IElEIG9mIHRoZSBvdXRwdXQgZGlzcGxheS4KICogQHJldHVybiB7IUl0ZXJhYmxlPCFPYmplY3Q+fSBJdGVyYWJsZSBvZiBuZXh0IHN0ZXBzLgogKi8KZnVuY3Rpb24qIHVwbG9hZEZpbGVzU3RlcChpbnB1dElkLCBvdXRwdXRJZCkgewogIGNvbnN0IGlucHV0RWxlbWVudCA9IGRvY3VtZW50LmdldEVsZW1lbnRCeUlkKGlucHV0SWQpOwogIGlucHV0RWxlbWVudC5kaXNhYmxlZCA9IGZhbHNlOwoKICBjb25zdCBvdXRwdXRFbGVtZW50ID0gZG9jdW1lbnQuZ2V0RWxlbWVudEJ5SWQob3V0cHV0SWQpOwogIG91dHB1dEVsZW1lbnQuaW5uZXJIVE1MID0gJyc7CgogIGNvbnN0IHBpY2tlZFByb21pc2UgPSBuZXcgUHJvbWlzZSgocmVzb2x2ZSkgPT4gewogICAgaW5wdXRFbGVtZW50LmFkZEV2ZW50TGlzdGVuZXIoJ2NoYW5nZScsIChlKSA9PiB7CiAgICAgIHJlc29sdmUoZS50YXJnZXQuZmlsZXMpOwogICAgfSk7CiAgfSk7CgogIGNvbnN0IGNhbmNlbCA9IGRvY3VtZW50LmNyZWF0ZUVsZW1lbnQoJ2J1dHRvbicpOwogIGlucHV0RWxlbWVudC5wYXJlbnRFbGVtZW50LmFwcGVuZENoaWxkKGNhbmNlbCk7CiAgY2FuY2VsLnRleHRDb250ZW50ID0gJ0NhbmNlbCB1cGxvYWQnOwogIGNvbnN0IGNhbmNlbFByb21pc2UgPSBuZXcgUHJvbWlzZSgocmVzb2x2ZSkgPT4gewogICAgY2FuY2VsLm9uY2xpY2sgPSAoKSA9PiB7CiAgICAgIHJlc29sdmUobnVsbCk7CiAgICB9OwogIH0pOwoKICAvLyBXYWl0IGZvciB0aGUgdXNlciB0byBwaWNrIHRoZSBmaWxlcy4KICBjb25zdCBmaWxlcyA9IHlpZWxkIHsKICAgIHByb21pc2U6IFByb21pc2UucmFjZShbcGlja2VkUHJvbWlzZSwgY2FuY2VsUHJvbWlzZV0pLAogICAgcmVzcG9uc2U6IHsKICAgICAgYWN0aW9uOiAnc3RhcnRpbmcnLAogICAgfQogIH07CgogIGNhbmNlbC5yZW1vdmUoKTsKCiAgLy8gRGlzYWJsZSB0aGUgaW5wdXQgZWxlbWVudCBzaW5jZSBmdXJ0aGVyIHBpY2tzIGFyZSBub3QgYWxsb3dlZC4KICBpbnB1dEVsZW1lbnQuZGlzYWJsZWQgPSB0cnVlOwoKICBpZiAoIWZpbGVzKSB7CiAgICByZXR1cm4gewogICAgICByZXNwb25zZTogewogICAgICAgIGFjdGlvbjogJ2NvbXBsZXRlJywKICAgICAgfQogICAgfTsKICB9CgogIGZvciAoY29uc3QgZmlsZSBvZiBmaWxlcykgewogICAgY29uc3QgbGkgPSBkb2N1bWVudC5jcmVhdGVFbGVtZW50KCdsaScpOwogICAgbGkuYXBwZW5kKHNwYW4oZmlsZS5uYW1lLCB7Zm9udFdlaWdodDogJ2JvbGQnfSkpOwogICAgbGkuYXBwZW5kKHNwYW4oCiAgICAgICAgYCgke2ZpbGUudHlwZSB8fCAnbi9hJ30pIC0gJHtmaWxlLnNpemV9IGJ5dGVzLCBgICsKICAgICAgICBgbGFzdCBtb2RpZmllZDogJHsKICAgICAgICAgICAgZmlsZS5sYXN0TW9kaWZpZWREYXRlID8gZmlsZS5sYXN0TW9kaWZpZWREYXRlLnRvTG9jYWxlRGF0ZVN0cmluZygpIDoKICAgICAgICAgICAgICAgICAgICAgICAgICAgICAgICAgICAgJ24vYSd9IC0gYCkpOwogICAgY29uc3QgcGVyY2VudCA9IHNwYW4oJzAlIGRvbmUnKTsKICAgIGxpLmFwcGVuZENoaWxkKHBlcmNlbnQpOwoKICAgIG91dHB1dEVsZW1lbnQuYXBwZW5kQ2hpbGQobGkpOwoKICAgIGNvbnN0IGZpbGVEYXRhUHJvbWlzZSA9IG5ldyBQcm9taXNlKChyZXNvbHZlKSA9PiB7CiAgICAgIGNvbnN0IHJlYWRlciA9IG5ldyBGaWxlUmVhZGVyKCk7CiAgICAgIHJlYWRlci5vbmxvYWQgPSAoZSkgPT4gewogICAgICAgIHJlc29sdmUoZS50YXJnZXQucmVzdWx0KTsKICAgICAgfTsKICAgICAgcmVhZGVyLnJlYWRBc0FycmF5QnVmZmVyKGZpbGUpOwogICAgfSk7CiAgICAvLyBXYWl0IGZvciB0aGUgZGF0YSB0byBiZSByZWFkeS4KICAgIGxldCBmaWxlRGF0YSA9IHlpZWxkIHsKICAgICAgcHJvbWlzZTogZmlsZURhdGFQcm9taXNlLAogICAgICByZXNwb25zZTogewogICAgICAgIGFjdGlvbjogJ2NvbnRpbnVlJywKICAgICAgfQogICAgfTsKCiAgICAvLyBVc2UgYSBjaHVua2VkIHNlbmRpbmcgdG8gYXZvaWQgbWVzc2FnZSBzaXplIGxpbWl0cy4gU2VlIGIvNjIxMTU2NjAuCiAgICBsZXQgcG9zaXRpb24gPSAwOwogICAgd2hpbGUgKHBvc2l0aW9uIDwgZmlsZURhdGEuYnl0ZUxlbmd0aCkgewogICAgICBjb25zdCBsZW5ndGggPSBNYXRoLm1pbihmaWxlRGF0YS5ieXRlTGVuZ3RoIC0gcG9zaXRpb24sIE1BWF9QQVlMT0FEX1NJWkUpOwogICAgICBjb25zdCBjaHVuayA9IG5ldyBVaW50OEFycmF5KGZpbGVEYXRhLCBwb3NpdGlvbiwgbGVuZ3RoKTsKICAgICAgcG9zaXRpb24gKz0gbGVuZ3RoOwoKICAgICAgY29uc3QgYmFzZTY0ID0gYnRvYShTdHJpbmcuZnJvbUNoYXJDb2RlLmFwcGx5KG51bGwsIGNodW5rKSk7CiAgICAgIHlpZWxkIHsKICAgICAgICByZXNwb25zZTogewogICAgICAgICAgYWN0aW9uOiAnYXBwZW5kJywKICAgICAgICAgIGZpbGU6IGZpbGUubmFtZSwKICAgICAgICAgIGRhdGE6IGJhc2U2NCwKICAgICAgICB9LAogICAgICB9OwogICAgICBwZXJjZW50LnRleHRDb250ZW50ID0KICAgICAgICAgIGAke01hdGgucm91bmQoKHBvc2l0aW9uIC8gZmlsZURhdGEuYnl0ZUxlbmd0aCkgKiAxMDApfSUgZG9uZWA7CiAgICB9CiAgfQoKICAvLyBBbGwgZG9uZS4KICB5aWVsZCB7CiAgICByZXNwb25zZTogewogICAgICBhY3Rpb246ICdjb21wbGV0ZScsCiAgICB9CiAgfTsKfQoKc2NvcGUuZ29vZ2xlID0gc2NvcGUuZ29vZ2xlIHx8IHt9OwpzY29wZS5nb29nbGUuY29sYWIgPSBzY29wZS5nb29nbGUuY29sYWIgfHwge307CnNjb3BlLmdvb2dsZS5jb2xhYi5fZmlsZXMgPSB7CiAgX3VwbG9hZEZpbGVzLAogIF91cGxvYWRGaWxlc0NvbnRpbnVlLAp9Owp9KShzZWxmKTsK",
              "ok": true,
              "headers": [
                [
                  "content-type",
                  "application/javascript"
                ]
              ],
              "status": 200,
              "status_text": ""
            }
          },
          "base_uri": "https://localhost:8080/",
          "height": 73
        },
        "outputId": "94174b5d-7213-45f7-f5d2-488ee408e12e"
      },
      "source": [
        "# Another to load the second song.\n",
        "songs.append(files.upload().values() or input_trio_midi_data)"
      ],
      "execution_count": 5,
      "outputs": [
        {
          "output_type": "display_data",
          "data": {
            "text/html": [
              "\n",
              "     <input type=\"file\" id=\"files-b2a21662-0b16-4d6c-8154-49427c5373af\" name=\"files[]\" multiple disabled\n",
              "        style=\"border:none\" />\n",
              "     <output id=\"result-b2a21662-0b16-4d6c-8154-49427c5373af\">\n",
              "      Upload widget is only available when the cell has been executed in the\n",
              "      current browser session. Please rerun this cell to enable.\n",
              "      </output>\n",
              "      <script src=\"/nbextensions/google.colab/files.js\"></script> "
            ],
            "text/plain": [
              "<IPython.core.display.HTML object>"
            ]
          },
          "metadata": {
            "tags": []
          }
        },
        {
          "output_type": "stream",
          "text": [
            "Saving I Shot the Sheriff.2.mid to I Shot the Sheriff.2.mid\n"
          ],
          "name": "stdout"
        }
      ]
    },
    {
      "cell_type": "markdown",
      "metadata": {
        "id": "2oZPsNxtuwc2",
        "colab_type": "text"
      },
      "source": [
        "##Extract some trios: \n",
        "\n",
        "In the scheme of our experiment, this is a data cleaning step. We pare down our inputted songs to sequences of 16 bar 'grooves'.\n",
        "\n",
        "The model(s) we loaded above will operate on these grooves. Interpolating them to create a 'mashup' \n",
        "\n",
        "Note: Trios may be un-extractable from some songs. These songs break the pipeline so to speak. If encountered, run the track loading cells again, loading different songs. "
      ]
    },
    {
      "cell_type": "code",
      "metadata": {
        "id": "6iqrZTy-veDx",
        "colab_type": "code",
        "colab": {}
      },
      "source": [
        "all_trios = []\n",
        "for i,s in enumerate(songs): \n",
        "  trio_input_seqs = [mm.midi_to_sequence_proto(m) for m in s]\n",
        "  extracted_trios = []\n",
        "  for ns in trio_input_seqs:\n",
        "    extracted_trios.extend(\n",
        "        hierdec_trio_16bar_config.data_converter.from_tensors(\n",
        "            hierdec_trio_16bar_config.data_converter.to_tensors(ns)[1]))\n",
        "  all_trios.append(extracted_trios)"
      ],
      "execution_count": 6,
      "outputs": []
    },
    {
      "cell_type": "markdown",
      "metadata": {
        "id": "l6JK1YOOOYM4",
        "colab_type": "text"
      },
      "source": [
        "## Trio Mashup Time! \n",
        "\n",
        "Here we interpolate, or 'mashup' the trios. This is performed via interpolation. \n",
        "\n",
        "You can also play with the Temperature slider. Any guesses as to what it does?"
      ]
    },
    {
      "cell_type": "code",
      "metadata": {
        "id": "uHXJk57W676L",
        "colab_type": "code",
        "colab": {
          "base_uri": "https://localhost:8080/",
          "height": 517
        },
        "outputId": "634f8ad0-7898-4a5f-9214-009bb3c7803c"
      },
      "source": [
        "#@title Compute the reconstructions and mean of the two trios, selected from the previous cell.\n",
        "\n",
        "# hierdec contains an LSTM hierarchy,\n",
        "# flat does not. \n",
        "\n",
        "trio_interp_model = \"hierdec_trio_16bar\" #@param [\"hierdec_trio_16bar\", \"baseline_flat_trio_16bar\"]\n",
        "\n",
        "song_one_trio =  1#@param {type:\"integer\"}\n",
        "song_two_trio =  0#@param {type:\"integer\"}\n",
        "start_trio = all_trios[0][song_one_trio]\n",
        "end_trio = all_trios[1][song_two_trio]\n",
        "\n",
        "temperature = 1.2 #@param {type:\"slider\", min:0.1, max:1.5, step:0.1}\n",
        "trio_16bar_mean = interpolate(trio_models[trio_interp_model], start_trio, end_trio, num_steps=3, max_length=256, individual_duration=32, temperature=temperature)"
      ],
      "execution_count": 7,
      "outputs": [
        {
          "output_type": "stream",
          "text": [
            "Start Seq Reconstruction\n"
          ],
          "name": "stdout"
        },
        {
          "output_type": "display_data",
          "data": {
            "text/html": [
              "<div id=\"id_1\"> </div>"
            ],
            "text/plain": [
              "<IPython.core.display.HTML object>"
            ]
          },
          "metadata": {
            "tags": []
          }
        },
        {
          "output_type": "stream",
          "text": [
            "End Seq Reconstruction\n"
          ],
          "name": "stdout"
        },
        {
          "output_type": "display_data",
          "data": {
            "text/html": [
              "<div id=\"id_2\"> </div>"
            ],
            "text/plain": [
              "<IPython.core.display.HTML object>"
            ]
          },
          "metadata": {
            "tags": []
          }
        },
        {
          "output_type": "stream",
          "text": [
            "Mean Sequence\n"
          ],
          "name": "stdout"
        },
        {
          "output_type": "display_data",
          "data": {
            "text/html": [
              "<div id=\"id_3\"> </div>"
            ],
            "text/plain": [
              "<IPython.core.display.HTML object>"
            ]
          },
          "metadata": {
            "tags": []
          }
        },
        {
          "output_type": "stream",
          "text": [
            "Start -> End Interpolation\n"
          ],
          "name": "stdout"
        },
        {
          "output_type": "display_data",
          "data": {
            "text/html": [
              "<div id=\"id_4\"> </div>"
            ],
            "text/plain": [
              "<IPython.core.display.HTML object>"
            ]
          },
          "metadata": {
            "tags": []
          }
        },
        {
          "output_type": "display_data",
          "data": {
            "application/javascript": [
              "\n",
              "(function(root) {\n",
              "  function now() {\n",
              "    return new Date();\n",
              "  }\n",
              "\n",
              "  var force = true;\n",
              "\n",
              "  if (typeof root._bokeh_onload_callbacks === \"undefined\" || force === true) {\n",
              "    root._bokeh_onload_callbacks = [];\n",
              "    root._bokeh_is_loading = undefined;\n",
              "  }\n",
              "\n",
              "  var JS_MIME_TYPE = 'application/javascript';\n",
              "  var HTML_MIME_TYPE = 'text/html';\n",
              "  var EXEC_MIME_TYPE = 'application/vnd.bokehjs_exec.v0+json';\n",
              "  var CLASS_NAME = 'output_bokeh rendered_html';\n",
              "\n",
              "  /**\n",
              "   * Render data to the DOM node\n",
              "   */\n",
              "  function render(props, node) {\n",
              "    var script = document.createElement(\"script\");\n",
              "    node.appendChild(script);\n",
              "  }\n",
              "\n",
              "  /**\n",
              "   * Handle when an output is cleared or removed\n",
              "   */\n",
              "  function handleClearOutput(event, handle) {\n",
              "    var cell = handle.cell;\n",
              "\n",
              "    var id = cell.output_area._bokeh_element_id;\n",
              "    var server_id = cell.output_area._bokeh_server_id;\n",
              "    // Clean up Bokeh references\n",
              "    if (id != null && id in Bokeh.index) {\n",
              "      Bokeh.index[id].model.document.clear();\n",
              "      delete Bokeh.index[id];\n",
              "    }\n",
              "\n",
              "    if (server_id !== undefined) {\n",
              "      // Clean up Bokeh references\n",
              "      var cmd = \"from bokeh.io.state import curstate; print(curstate().uuid_to_server['\" + server_id + \"'].get_sessions()[0].document.roots[0]._id)\";\n",
              "      cell.notebook.kernel.execute(cmd, {\n",
              "        iopub: {\n",
              "          output: function(msg) {\n",
              "            var id = msg.content.text.trim();\n",
              "            if (id in Bokeh.index) {\n",
              "              Bokeh.index[id].model.document.clear();\n",
              "              delete Bokeh.index[id];\n",
              "            }\n",
              "          }\n",
              "        }\n",
              "      });\n",
              "      // Destroy server and session\n",
              "      var cmd = \"import bokeh.io.notebook as ion; ion.destroy_server('\" + server_id + \"')\";\n",
              "      cell.notebook.kernel.execute(cmd);\n",
              "    }\n",
              "  }\n",
              "\n",
              "  /**\n",
              "   * Handle when a new output is added\n",
              "   */\n",
              "  function handleAddOutput(event, handle) {\n",
              "    var output_area = handle.output_area;\n",
              "    var output = handle.output;\n",
              "\n",
              "    // limit handleAddOutput to display_data with EXEC_MIME_TYPE content only\n",
              "    if ((output.output_type != \"display_data\") || (!output.data.hasOwnProperty(EXEC_MIME_TYPE))) {\n",
              "      return\n",
              "    }\n",
              "\n",
              "    var toinsert = output_area.element.find(\".\" + CLASS_NAME.split(' ')[0]);\n",
              "\n",
              "    if (output.metadata[EXEC_MIME_TYPE][\"id\"] !== undefined) {\n",
              "      toinsert[toinsert.length - 1].firstChild.textContent = output.data[JS_MIME_TYPE];\n",
              "      // store reference to embed id on output_area\n",
              "      output_area._bokeh_element_id = output.metadata[EXEC_MIME_TYPE][\"id\"];\n",
              "    }\n",
              "    if (output.metadata[EXEC_MIME_TYPE][\"server_id\"] !== undefined) {\n",
              "      var bk_div = document.createElement(\"div\");\n",
              "      bk_div.innerHTML = output.data[HTML_MIME_TYPE];\n",
              "      var script_attrs = bk_div.children[0].attributes;\n",
              "      for (var i = 0; i < script_attrs.length; i++) {\n",
              "        toinsert[toinsert.length - 1].firstChild.setAttribute(script_attrs[i].name, script_attrs[i].value);\n",
              "        toinsert[toinsert.length - 1].firstChild.textContent = bk_div.children[0].textContent\n",
              "      }\n",
              "      // store reference to server id on output_area\n",
              "      output_area._bokeh_server_id = output.metadata[EXEC_MIME_TYPE][\"server_id\"];\n",
              "    }\n",
              "  }\n",
              "\n",
              "  function register_renderer(events, OutputArea) {\n",
              "\n",
              "    function append_mime(data, metadata, element) {\n",
              "      // create a DOM node to render to\n",
              "      var toinsert = this.create_output_subarea(\n",
              "        metadata,\n",
              "        CLASS_NAME,\n",
              "        EXEC_MIME_TYPE\n",
              "      );\n",
              "      this.keyboard_manager.register_events(toinsert);\n",
              "      // Render to node\n",
              "      var props = {data: data, metadata: metadata[EXEC_MIME_TYPE]};\n",
              "      render(props, toinsert[toinsert.length - 1]);\n",
              "      element.append(toinsert);\n",
              "      return toinsert\n",
              "    }\n",
              "\n",
              "    /* Handle when an output is cleared or removed */\n",
              "    events.on('clear_output.CodeCell', handleClearOutput);\n",
              "    events.on('delete.Cell', handleClearOutput);\n",
              "\n",
              "    /* Handle when a new output is added */\n",
              "    events.on('output_added.OutputArea', handleAddOutput);\n",
              "\n",
              "    /**\n",
              "     * Register the mime type and append_mime function with output_area\n",
              "     */\n",
              "    OutputArea.prototype.register_mime_type(EXEC_MIME_TYPE, append_mime, {\n",
              "      /* Is output safe? */\n",
              "      safe: true,\n",
              "      /* Index of renderer in `output_area.display_order` */\n",
              "      index: 0\n",
              "    });\n",
              "  }\n",
              "\n",
              "  // register the mime type if in Jupyter Notebook environment and previously unregistered\n",
              "  if (root.Jupyter !== undefined) {\n",
              "    var events = require('base/js/events');\n",
              "    var OutputArea = require('notebook/js/outputarea').OutputArea;\n",
              "\n",
              "    if (OutputArea.prototype.mime_types().indexOf(EXEC_MIME_TYPE) == -1) {\n",
              "      register_renderer(events, OutputArea);\n",
              "    }\n",
              "  }\n",
              "\n",
              "  \n",
              "  if (typeof (root._bokeh_timeout) === \"undefined\" || force === true) {\n",
              "    root._bokeh_timeout = Date.now() + 5000;\n",
              "    root._bokeh_failed_load = false;\n",
              "  }\n",
              "\n",
              "  var NB_LOAD_WARNING = {'data': {'text/html':\n",
              "     \"<div style='background-color: #fdd'>\\n\"+\n",
              "     \"<p>\\n\"+\n",
              "     \"BokehJS does not appear to have successfully loaded. If loading BokehJS from CDN, this \\n\"+\n",
              "     \"may be due to a slow or bad network connection. Possible fixes:\\n\"+\n",
              "     \"</p>\\n\"+\n",
              "     \"<ul>\\n\"+\n",
              "     \"<li>re-rerun `output_notebook()` to attempt to load from CDN again, or</li>\\n\"+\n",
              "     \"<li>use INLINE resources instead, as so:</li>\\n\"+\n",
              "     \"</ul>\\n\"+\n",
              "     \"<code>\\n\"+\n",
              "     \"from bokeh.resources import INLINE\\n\"+\n",
              "     \"output_notebook(resources=INLINE)\\n\"+\n",
              "     \"</code>\\n\"+\n",
              "     \"</div>\"}};\n",
              "\n",
              "  function display_loaded() {\n",
              "    var el = document.getElementById(null);\n",
              "    if (el != null) {\n",
              "      el.textContent = \"BokehJS is loading...\";\n",
              "    }\n",
              "    if (root.Bokeh !== undefined) {\n",
              "      if (el != null) {\n",
              "        el.textContent = \"BokehJS \" + root.Bokeh.version + \" successfully loaded.\";\n",
              "      }\n",
              "    } else if (Date.now() < root._bokeh_timeout) {\n",
              "      setTimeout(display_loaded, 100)\n",
              "    }\n",
              "  }\n",
              "\n",
              "\n",
              "  function run_callbacks() {\n",
              "    try {\n",
              "      root._bokeh_onload_callbacks.forEach(function(callback) {\n",
              "        if (callback != null)\n",
              "          callback();\n",
              "      });\n",
              "    } finally {\n",
              "      delete root._bokeh_onload_callbacks\n",
              "    }\n",
              "    console.debug(\"Bokeh: all callbacks have finished\");\n",
              "  }\n",
              "\n",
              "  function load_libs(css_urls, js_urls, callback) {\n",
              "    if (css_urls == null) css_urls = [];\n",
              "    if (js_urls == null) js_urls = [];\n",
              "\n",
              "    root._bokeh_onload_callbacks.push(callback);\n",
              "    if (root._bokeh_is_loading > 0) {\n",
              "      console.debug(\"Bokeh: BokehJS is being loaded, scheduling callback at\", now());\n",
              "      return null;\n",
              "    }\n",
              "    if (js_urls == null || js_urls.length === 0) {\n",
              "      run_callbacks();\n",
              "      return null;\n",
              "    }\n",
              "    console.debug(\"Bokeh: BokehJS not loaded, scheduling load and callback at\", now());\n",
              "    root._bokeh_is_loading = css_urls.length + js_urls.length;\n",
              "\n",
              "    function on_load() {\n",
              "      root._bokeh_is_loading--;\n",
              "      if (root._bokeh_is_loading === 0) {\n",
              "        console.debug(\"Bokeh: all BokehJS libraries/stylesheets loaded\");\n",
              "        run_callbacks()\n",
              "      }\n",
              "    }\n",
              "\n",
              "    function on_error() {\n",
              "      console.error(\"failed to load \" + url);\n",
              "    }\n",
              "\n",
              "    for (var i = 0; i < css_urls.length; i++) {\n",
              "      var url = css_urls[i];\n",
              "      const element = document.createElement(\"link\");\n",
              "      element.onload = on_load;\n",
              "      element.onerror = on_error;\n",
              "      element.rel = \"stylesheet\";\n",
              "      element.type = \"text/css\";\n",
              "      element.href = url;\n",
              "      console.debug(\"Bokeh: injecting link tag for BokehJS stylesheet: \", url);\n",
              "      document.body.appendChild(element);\n",
              "    }\n",
              "\n",
              "    const hashes = {\"https://cdn.bokeh.org/bokeh/release/bokeh-2.1.1.min.js\": \"kLr4fYcqcSpbuI95brIH3vnnYCquzzSxHPU6XGQCIkQRGJwhg0StNbj1eegrHs12\", \"https://cdn.bokeh.org/bokeh/release/bokeh-widgets-2.1.1.min.js\": \"xIGPmVtaOm+z0BqfSOMn4lOR6ciex448GIKG4eE61LsAvmGj48XcMQZtKcE/UXZe\", \"https://cdn.bokeh.org/bokeh/release/bokeh-tables-2.1.1.min.js\": \"Dc9u1wF/0zApGIWoBbH77iWEHtdmkuYWG839Uzmv8y8yBLXebjO9ZnERsde5Ln/P\", \"https://cdn.bokeh.org/bokeh/release/bokeh-gl-2.1.1.min.js\": \"cT9JaBz7GiRXdENrJLZNSC6eMNF3nh3fa5fTF51Svp+ukxPdwcU5kGXGPBgDCa2j\"};\n",
              "\n",
              "    for (var i = 0; i < js_urls.length; i++) {\n",
              "      var url = js_urls[i];\n",
              "      var element = document.createElement('script');\n",
              "      element.onload = on_load;\n",
              "      element.onerror = on_error;\n",
              "      element.async = false;\n",
              "      element.src = url;\n",
              "      if (url in hashes) {\n",
              "        element.crossOrigin = \"anonymous\";\n",
              "        element.integrity = \"sha384-\" + hashes[url];\n",
              "      }\n",
              "      console.debug(\"Bokeh: injecting script tag for BokehJS library: \", url);\n",
              "      document.head.appendChild(element);\n",
              "    }\n",
              "  };\n",
              "\n",
              "  function inject_raw_css(css) {\n",
              "    const element = document.createElement(\"style\");\n",
              "    element.appendChild(document.createTextNode(css));\n",
              "    document.body.appendChild(element);\n",
              "  }\n",
              "\n",
              "  \n",
              "  var js_urls = [\"https://cdn.bokeh.org/bokeh/release/bokeh-2.1.1.min.js\", \"https://cdn.bokeh.org/bokeh/release/bokeh-widgets-2.1.1.min.js\", \"https://cdn.bokeh.org/bokeh/release/bokeh-tables-2.1.1.min.js\", \"https://cdn.bokeh.org/bokeh/release/bokeh-gl-2.1.1.min.js\"];\n",
              "  var css_urls = [];\n",
              "  \n",
              "\n",
              "  var inline_js = [\n",
              "    function(Bokeh) {\n",
              "      Bokeh.set_log_level(\"info\");\n",
              "    },\n",
              "    function(Bokeh) {\n",
              "    \n",
              "    \n",
              "    }\n",
              "  ];\n",
              "\n",
              "  function run_inline_js() {\n",
              "    \n",
              "    if (root.Bokeh !== undefined || force === true) {\n",
              "      \n",
              "    for (var i = 0; i < inline_js.length; i++) {\n",
              "      inline_js[i].call(root, root.Bokeh);\n",
              "    }\n",
              "    } else if (Date.now() < root._bokeh_timeout) {\n",
              "      setTimeout(run_inline_js, 100);\n",
              "    } else if (!root._bokeh_failed_load) {\n",
              "      console.log(\"Bokeh: BokehJS failed to load within specified timeout.\");\n",
              "      root._bokeh_failed_load = true;\n",
              "    } else if (force !== true) {\n",
              "      var cell = $(document.getElementById(null)).parents('.cell').data().cell;\n",
              "      cell.output_area.append_execute_result(NB_LOAD_WARNING)\n",
              "    }\n",
              "\n",
              "  }\n",
              "\n",
              "  if (root._bokeh_is_loading === 0) {\n",
              "    console.debug(\"Bokeh: BokehJS loaded, going straight to plotting\");\n",
              "    run_inline_js();\n",
              "  } else {\n",
              "    load_libs(css_urls, js_urls, function() {\n",
              "      console.debug(\"Bokeh: BokehJS plotting callback run at\", now());\n",
              "      run_inline_js();\n",
              "    });\n",
              "  }\n",
              "}(window));"
            ],
            "application/vnd.bokehjs_load.v0+json": "\n(function(root) {\n  function now() {\n    return new Date();\n  }\n\n  var force = true;\n\n  if (typeof root._bokeh_onload_callbacks === \"undefined\" || force === true) {\n    root._bokeh_onload_callbacks = [];\n    root._bokeh_is_loading = undefined;\n  }\n\n  \n\n  \n  if (typeof (root._bokeh_timeout) === \"undefined\" || force === true) {\n    root._bokeh_timeout = Date.now() + 5000;\n    root._bokeh_failed_load = false;\n  }\n\n  var NB_LOAD_WARNING = {'data': {'text/html':\n     \"<div style='background-color: #fdd'>\\n\"+\n     \"<p>\\n\"+\n     \"BokehJS does not appear to have successfully loaded. If loading BokehJS from CDN, this \\n\"+\n     \"may be due to a slow or bad network connection. Possible fixes:\\n\"+\n     \"</p>\\n\"+\n     \"<ul>\\n\"+\n     \"<li>re-rerun `output_notebook()` to attempt to load from CDN again, or</li>\\n\"+\n     \"<li>use INLINE resources instead, as so:</li>\\n\"+\n     \"</ul>\\n\"+\n     \"<code>\\n\"+\n     \"from bokeh.resources import INLINE\\n\"+\n     \"output_notebook(resources=INLINE)\\n\"+\n     \"</code>\\n\"+\n     \"</div>\"}};\n\n  function display_loaded() {\n    var el = document.getElementById(null);\n    if (el != null) {\n      el.textContent = \"BokehJS is loading...\";\n    }\n    if (root.Bokeh !== undefined) {\n      if (el != null) {\n        el.textContent = \"BokehJS \" + root.Bokeh.version + \" successfully loaded.\";\n      }\n    } else if (Date.now() < root._bokeh_timeout) {\n      setTimeout(display_loaded, 100)\n    }\n  }\n\n\n  function run_callbacks() {\n    try {\n      root._bokeh_onload_callbacks.forEach(function(callback) {\n        if (callback != null)\n          callback();\n      });\n    } finally {\n      delete root._bokeh_onload_callbacks\n    }\n    console.debug(\"Bokeh: all callbacks have finished\");\n  }\n\n  function load_libs(css_urls, js_urls, callback) {\n    if (css_urls == null) css_urls = [];\n    if (js_urls == null) js_urls = [];\n\n    root._bokeh_onload_callbacks.push(callback);\n    if (root._bokeh_is_loading > 0) {\n      console.debug(\"Bokeh: BokehJS is being loaded, scheduling callback at\", now());\n      return null;\n    }\n    if (js_urls == null || js_urls.length === 0) {\n      run_callbacks();\n      return null;\n    }\n    console.debug(\"Bokeh: BokehJS not loaded, scheduling load and callback at\", now());\n    root._bokeh_is_loading = css_urls.length + js_urls.length;\n\n    function on_load() {\n      root._bokeh_is_loading--;\n      if (root._bokeh_is_loading === 0) {\n        console.debug(\"Bokeh: all BokehJS libraries/stylesheets loaded\");\n        run_callbacks()\n      }\n    }\n\n    function on_error() {\n      console.error(\"failed to load \" + url);\n    }\n\n    for (var i = 0; i < css_urls.length; i++) {\n      var url = css_urls[i];\n      const element = document.createElement(\"link\");\n      element.onload = on_load;\n      element.onerror = on_error;\n      element.rel = \"stylesheet\";\n      element.type = \"text/css\";\n      element.href = url;\n      console.debug(\"Bokeh: injecting link tag for BokehJS stylesheet: \", url);\n      document.body.appendChild(element);\n    }\n\n    const hashes = {\"https://cdn.bokeh.org/bokeh/release/bokeh-2.1.1.min.js\": \"kLr4fYcqcSpbuI95brIH3vnnYCquzzSxHPU6XGQCIkQRGJwhg0StNbj1eegrHs12\", \"https://cdn.bokeh.org/bokeh/release/bokeh-widgets-2.1.1.min.js\": \"xIGPmVtaOm+z0BqfSOMn4lOR6ciex448GIKG4eE61LsAvmGj48XcMQZtKcE/UXZe\", \"https://cdn.bokeh.org/bokeh/release/bokeh-tables-2.1.1.min.js\": \"Dc9u1wF/0zApGIWoBbH77iWEHtdmkuYWG839Uzmv8y8yBLXebjO9ZnERsde5Ln/P\", \"https://cdn.bokeh.org/bokeh/release/bokeh-gl-2.1.1.min.js\": \"cT9JaBz7GiRXdENrJLZNSC6eMNF3nh3fa5fTF51Svp+ukxPdwcU5kGXGPBgDCa2j\"};\n\n    for (var i = 0; i < js_urls.length; i++) {\n      var url = js_urls[i];\n      var element = document.createElement('script');\n      element.onload = on_load;\n      element.onerror = on_error;\n      element.async = false;\n      element.src = url;\n      if (url in hashes) {\n        element.crossOrigin = \"anonymous\";\n        element.integrity = \"sha384-\" + hashes[url];\n      }\n      console.debug(\"Bokeh: injecting script tag for BokehJS library: \", url);\n      document.head.appendChild(element);\n    }\n  };\n\n  function inject_raw_css(css) {\n    const element = document.createElement(\"style\");\n    element.appendChild(document.createTextNode(css));\n    document.body.appendChild(element);\n  }\n\n  \n  var js_urls = [\"https://cdn.bokeh.org/bokeh/release/bokeh-2.1.1.min.js\", \"https://cdn.bokeh.org/bokeh/release/bokeh-widgets-2.1.1.min.js\", \"https://cdn.bokeh.org/bokeh/release/bokeh-tables-2.1.1.min.js\", \"https://cdn.bokeh.org/bokeh/release/bokeh-gl-2.1.1.min.js\"];\n  var css_urls = [];\n  \n\n  var inline_js = [\n    function(Bokeh) {\n      Bokeh.set_log_level(\"info\");\n    },\n    function(Bokeh) {\n    \n    \n    }\n  ];\n\n  function run_inline_js() {\n    \n    if (root.Bokeh !== undefined || force === true) {\n      \n    for (var i = 0; i < inline_js.length; i++) {\n      inline_js[i].call(root, root.Bokeh);\n    }\n    } else if (Date.now() < root._bokeh_timeout) {\n      setTimeout(run_inline_js, 100);\n    } else if (!root._bokeh_failed_load) {\n      console.log(\"Bokeh: BokehJS failed to load within specified timeout.\");\n      root._bokeh_failed_load = true;\n    } else if (force !== true) {\n      var cell = $(document.getElementById(null)).parents('.cell').data().cell;\n      cell.output_area.append_execute_result(NB_LOAD_WARNING)\n    }\n\n  }\n\n  if (root._bokeh_is_loading === 0) {\n    console.debug(\"Bokeh: BokehJS loaded, going straight to plotting\");\n    run_inline_js();\n  } else {\n    load_libs(css_urls, js_urls, function() {\n      console.debug(\"Bokeh: BokehJS plotting callback run at\", now());\n      run_inline_js();\n    });\n  }\n}(window));"
          },
          "metadata": {
            "tags": []
          }
        },
        {
          "output_type": "display_data",
          "data": {
            "text/html": [
              "\n",
              "\n",
              "\n",
              "\n",
              "\n",
              "\n",
              "  <div class=\"bk-root\" id=\"1af42624-efc5-41bb-89f4-9fdfe17f155f\" data-root-id=\"1001\"></div>\n"
            ]
          },
          "metadata": {
            "tags": []
          }
        },
        {
          "output_type": "display_data",
          "data": {
            "application/javascript": [
              "(function(root) {\n",
              "  function embed_document(root) {\n",
              "    \n",
              "  var docs_json = {\"2ff32001-7c3b-4278-a35b-f69edcda96c5\":{\"roots\":{\"references\":[{\"attributes\":{\"below\":[{\"id\":\"1010\"}],\"center\":[{\"id\":\"1013\"},{\"id\":\"1017\"}],\"left\":[{\"id\":\"1014\"}],\"plot_height\":200,\"plot_width\":500,\"renderers\":[{\"id\":\"1037\"},{\"id\":\"1043\"},{\"id\":\"1049\"}],\"title\":{\"id\":\"1052\"},\"toolbar\":{\"id\":\"1024\"},\"x_range\":{\"id\":\"1002\"},\"x_scale\":{\"id\":\"1006\"},\"y_range\":{\"id\":\"1004\"},\"y_scale\":{\"id\":\"1008\"}},\"id\":\"1001\",\"subtype\":\"Figure\",\"type\":\"Plot\"},{\"attributes\":{\"axis\":{\"id\":\"1010\"},\"ticker\":null},\"id\":\"1013\",\"type\":\"Grid\"},{\"attributes\":{\"data\":{\"bottom\":{\"__ndarray__\":\"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\",\"dtype\":\"float64\",\"order\":\"little\",\"shape\":[676]},\"duration\":{\"__ndarray__\":\"AAAAAAAAwD8AAAAAAADAPwAAAAAAAMA/AAAAAAAAwD8AAAAAAADAPwAAAAAAAMA/AAAAAAAAwD8AAAAAAADAPwAAAAAAAMA/AAAAAAAAwD8AAAAAAADAPwAAAAAAAMA/AAAAAAAAwD8AAAAAAADAPwAAAAAAAMA/AAAAAAAAwD8AAAAAAADAPwAAAAAAAMA/AAAAAAAAwD8AAAAAAADAPwAAAAAAAMA/AAAAAAAAwD8AAAAAAADAPwAAAAAAAMA/AAAAAAAAwD8AAAAAAADAPwAAAAAAAMA/AAAAAAAAwD8AAAAAAADAPwAAAAAAAMA/AAAAAAAAwD8AAAAAAADAPwAAAAAAAMA/AAAAAAAAwD8AAAAAAADAPwAAAAAAAMA/AAAAAAAAwD8AAAAAAADAPwAAAAAAAMA/AAAAAAAAwD8AAAAAAADAPwAAAAAAAMA/AAAAAAAAwD8AAAAAAADAPwAAAAAAAMA/AAAAAAAAwD8AAAAAAADAPwAAAAAAAMA/AAAAAAAAwD8AAAAAAADAPwAAAAAAAMA/AAAAAAAAwD8AAAAAAADAPwAAAAAAAMA/AAAAAAAAwD8AAAAAAADAPwAAAAAAAMA/AAAAAAAAwD8AAAAAAADAPwAAAAAAAMA/AAAAAAAAwD8AAAAAAADAPwAAAAAAAMA/AAAAAAAAwD8AAAAAAADAPwAAAAAAAMA/AAAAAAAAwD8AAAAAAADAPwAAAAAAAMA/AAAAAAAAwD8AAAAAAADAPwAAAAAAAMA/AAAAAAAAwD8AAAAAAADAPwAAAAAAAMA/AAAAAAAAwD8AAAAAAADAPwAAAAAAAMA/AAAAAAAAwD8AAAAAAADAPwAAAAAAAMA/AAAAAAAAwD8AAAAAAADAPwAAAAAAAMA/AAAAAAAAwD8AAAAAAADAPwAAAAAAAMA/AAAAAAAAwD8AAAAAAADAPwAAAAAAAMA/AAAAAAAAwD8AAAAAAADAPwAAAAAAAMA/AAAAAAAAwD8AAAAAAADAPwAAAAAAAMA/AAAAAAAAwD8AAAAAAADAPwAAAAAAAMA/AAAAAAAAwD8AAAAAAADAPwAAAAAAAMA/AAAAAAAAwD8AAAAAAADAPwAAAAAAAMA/AAAAAAAAwD8AAAAAAADAPwAAAAAAAMA/AAAAAAAAwD8AAAAAAADAPwAAAAAAAMA/AAAAAAAAwD8AAAAAAADAPwAAAAAAAMA/AAAAAAAAwD8AAAAAAADAPwAAAAAAAMA/AAAAAAAAwD8AAAAAAADAPwAAAAAAAMA/AAAAAAAAwD8AAAAAAADAPwAAAAAAAMA/AAAAAAAAwD8AAAAAAADAPwAAAAAAAMA/AAAAAAAAwD8AAAAAAADAPwAAAAAAAMA/AAAAAAAAwD8AAAAAAADAPwAAAAAAAMA/AAAAAAAAwD8AAAAAAADAPwAAAAAAAMA/AAAAAAAAwD8AAAAAAADAPwAAAAAAAMA/AAAAAAAAwD8AAAAAAADAPwAAAAAAAMA/AAAAAAAAwD8AAAAAAADAPwAAAAAAAMA/AAAAAAAAwD8AAAAAAADAPwAAAAAAAMA/AAAAAAAAwD8AAAAAAADAPwAAAAAAAMA/AAAAAAAAwD8AAAAAAADAPwAAAAAAAMA/AAAAAAAAwD8AAAAAAADAPwAAAAAAAMA/AAAAAAAAwD8AAAAAAADAPwAAAAAAAMA/AAAAAAAAwD8AAAAAAADAPwAAAAAAAMA/AAAAAAAAwD8AAAAAAADAPwAAAAAAAMA/AAAAAAAAwD8AAAAAAADAPwAAAAAAAMA/AAAAAAAAwD8AAAAAAADAPwAAAAAAAMA/AAAAAAAAwD8AAAAAAADAPwAAAAAAAMA/AAAAAAAAwD8AAAAAAADAPwAAAAAAAMA/AAAAAAAAwD8AAAAAAADAPwAAAAAAAMA/AAAAAAAAwD8AAAAAAADAPwAAAAAAAMA/AAAAAAAAwD8AAAAAAADAPwAAAAAAAMA/AAAAAAAAwD8AAAAAAADAPwAAAAAAAMA/AAAAAAAAwD8AAAAAAADAPwAAAAAAAMA/AAAAAAAAwD8AAAAAAADAPwAAAAAAAMA/AAAAAAAAwD8AAAAAAADAPwAAAAAAAMA/AAAAAAAAwD8AAAAAAADAPwAAAAAAAMA/AAAAAAAAwD8AAAAAAADAPwAAAAAAAMA/AAAAAAAAwD8AAAAAAADAPwAAAAAAAMA/AAAAAAAAwD8AAAAAAADAPwAAAAAAAMA/AAAAAAAAwD8AAAAAAADAPwAAAAAAAMA/AAAAAAAAwD8AAAAAAADAPwAAAAAAAMA/AAAAAAAAwD8AAAAAAADAPwAAAAAAAMA/AAAAAAAAwD8AAAAAAADAPwAAAAAAAMA/AAAAAAAAwD8AAAAAAADAPwAAAAAAAMA/AAAAAAAAwD8AAAAAAADAPwAAAAAAAMA/AAAAAAAAwD8AAAAAAADAPwAAAAAAAMA/AAAAAAAAwD8AAAAAAADAPwAAAAAAAMA/AAAAAAAAwD8AAAAAAADAPwAAAAAAAMA/AAAAAAAAwD8AAAAAAADAPwAAAAAAAMA/AAAAAAAAwD8AAAAAAADAPwAAAAAAAMA/AAAAAAAAwD8AAAAAAADAPwAAAAAAAMA/AAAAAAAAwD8AAAAAAADAPwAAAAAAAMA/AAAAAAAAwD8AAAAAAADAPwAAAAAAAMA/AAAAAAAAwD8AAAAAAADAPwAAAAAAAMA/AAAAAAAAwD8AAAAAAADAPwAAAAAAAMA/AAAAAAAAwD8AAAAAAADAPwAAAAAAAMA/AAAAAAAAwD8AAAAAAADAPwAAAAAAAMA/AAAAAAAAwD8AAAAAAADAPwAAAAAAAMA/AAAAAAAAwD8AAAAAAADAPwAAAAAAAMA/AAAAAAAAwD8AAAAAAADAPwAAAAAAAMA/AAAAAAAAwD8AAAAAAADAPwAAAAAAAMA/AAAAAAAAwD8AAAAAAADAPwAAAAAAAMA/AAAAAAAAwD8AAAAAAADAPwAAAAAAAMA/AAAAAAAAwD8AAAAAAADAPwAAAAAAAMA/AAAAAAAAwD8AAAAAAADAPwAAAAAAAMA/AAAAAAAAwD8AAAAAAADAPwAAAAAAAMA/AAAAAAAAwD8AAAAAAADAPwAAAAAAAMA/AAAAAAAAwD8AAAAAAADAPwAAAAAAAMA/AAAAAAAAwD8AAAAAAADAPwAAAAAAAMA/AAAAAAAAwD8AAAAAAADAPwAAAAAAAMA/AAAAAAAAwD8AAAAAAADAPwAAAAAAAMA/AAAAAAAAwD8AAAAAAADAPwAAAAAAAMA/AAAAAAAAwD8AAAAAAADAPwAAAAAAAMA/AAAAAAAAwD8AAAAAAADAPwAAAAAAAMA/AAAAAAAAwD8AAAAAAADAPwAAAAAAAMA/AAAAAAAAwD8AAAAAAADAPwAAAAAAAMA/AAAAAAAAwD8AAAAAAADAPwAAAAAAAMA/AAAAAAAAwD8AAAAAAADAPwAAAAAAAMA/AAAAAAAAwD8AAAAAAADAPwAAAAAAAMA/AAAAAAAAwD8AAAAAAADAPwAAAAAAAMA/AAAAAAAAwD8AAAAAAADAPwAAAAAAAMA/AAAAAAAAwD8AAAAAAADAPwAAAAAAAMA/AAAAAAAAwD8AAAAAAADAPwAAAAAAAMA/AAAAAAAAwD8AAAAAAADAPwAAAAAAAMA/AAAAAAAAwD8AAAAAAADAPwAAAAAAAMA/AAAAAAAAwD8AAAAAAADAPwAAAAAAAMA/AAAAAAAAwD8AAAAAAADAPwAAAAAAAMA/AAAAAAAAwD8AAAAAAADAPwAAAAAAAMA/AAAAAAAAwD8AAAAAAADAPwAAAAAAAMA/AAAAAAAAwD8AAAAAAADAPwAAAAAAAMA/AAAAAAAAwD8AAAAAAADAPwAAAAAAAMA/AAAAAAAAwD8AAAAAAADAPwAAAAAAAMA/AAAAAAAAwD8AAAAAAADAPwAAAAAAAMA/AAAAAAAAwD8AAAAAAADAPwAAAAAAAMA/AAAAAAAAwD8AAAAAAADAPwAAAAAAAMA/AAAAAAAAwD8AAAAAAADAPwAAAAAAAMA/AAAAAAAAwD8AAAAAAADAPwAAAAAAAMA/AAAAAAAAwD8AAAAAAADAPwAAAAAAAMA/AAAAAAAAwD8AAAAAAADAPwAAAAAAAMA/AAAAAAAAwD8AAAAAAADAPwAAAAAAAMA/AAAAAAAAwD8AAAAAAADAPwAAAAAAAMA/AAAAAAAAwD8AAAAAAADAPwAAAAAAAMA/AAAAAAAAwD8AAAAAAADAPwAAAAAAAMA/AAAAAAAAwD8AAAAAAADAPwAAAAAAAMA/AAAAAAAAwD8AAAAAAADAPwAAAAAAAMA/AAAAAAAAwD8AAAAAAADAPwAAAAAAAMA/AAAAAAAAwD8AAAAAAADAPwAAAAAAAMA/AAAAAAAAwD8AAAAAAADAPwAAAAAAAMA/AAAAAAAAwD8AAAAAAADAPwAAAAAAAMA/AAAAAAAAwD8AAAAAAADAPwAAAAAAAMA/AAAAAAAAwD8AAAAAAADAPwAAAAAAAMA/AAAAAAAAwD8AAAAAAADAPwAAAAAAAMA/AAAAAAAAwD8AAAAAAADAPwAAAAAAAMA/AAAAAAAAwD8AAAAAAADAPwAAAAAAAMA/AAAAAAAAwD8AAAAAAADAPwAAAAAAAMA/AAAAAAAAwD8AAAAAAADAPwAAAAAAAMA/AAAAAAAAwD8AAAAAAADAPwAAAAAAAMA/AAAAAAAAwD8AAAAAAADAPwAAAAAAAMA/AAAAAAAAwD8AAAAAAADAPwAAAAAAAMA/AAAAAAAAwD8AAAAAAADAPwAAAAAAAMA/AAAAAAAAwD8AAAAAAADAPwAAAAAAAMA/AAAAAAAAwD8AAAAAAADAPwAAAAAAAMA/AAAAAAAAwD8AAAAAAADAPwAAAAAAAMA/AAAAAAAAwD8AAAAAAADAPwAAAAAAAMA/AAAAAAAAwD8AAAAAAADAPwAAAAAAAMA/AAAAAAAAwD8AAAAAAADAPwAAAAAAAMA/AAAAAAAAwD8AAAAAAADAPwAAAAAAAMA/AAAAAAAAwD8AAAAAAADAPwAAAAAAAMA/AAAAAAAAwD8AAAAAAADAPwAAAAAAAMA/AAAAAAAAwD8AAAAAAADAPwAAAAAAAMA/AAAAAAAAwD8AAAAAAADAPwAAAAAAAMA/AAAAAAAAwD8AAAAAAADAPwAAAAAAAMA/AAAAAAAAwD8AAAAAAADAPwAAAAAAAMA/AAAAAAAAwD8AAAAAAADAPwAAAAAAAMA/AAAAAAAAwD8AAAAAAADAPwAAAAAAAMA/AAAAAAAAwD8AAAAAAADAPwAAAAAAAMA/AAAAAAAAwD8AAAAAAADAPwAAAAAAAMA/AAAAAAAAwD8AAAAAAADAPwAAAAAAAMA/AAAAAAAAwD8AAAAAAADAPwAAAAAAAMA/AAAAAAAAwD8AAAAAAADAPwAAAAAAAMA/AAAAAAAAwD8AAAAAAADAPwAAAAAAAMA/AAAAAAAAwD8AAAAAAADAPwAAAAAAAMA/AAAAAAAAwD8AAAAAAADAPwAAAAAAAMA/AAAAAAAAwD8AAAAAAADAPwAAAAAAAMA/AAAAAAAAwD8AAAAAAADAPwAAAAAAAMA/AAAAAAAAwD8AAAAAAADAPwAAAAAAAMA/AAAAAAAAwD8AAAAAAADAPwAAAAAAAMA/AAAAAAAAwD8AAAAAAADAPwAAAAAAAMA/AAAAAAAAwD8AAAAAAADAPwAAAAAAAMA/AAAAAAAAwD8AAAAAAADAPwAAAAAAAMA/AAAAAAAAwD8AAAAAAADAPwAAAAAAAMA/AAAAAAAAwD8AAAAAAADAPwAAAAAAAMA/AAAAAAAAwD8AAAAAAADAPwAAAAAAAMA/AAAAAAAAwD8AAAAAAADAPwAAAAAAAMA/AAAAAAAAwD8AAAAAAADAPwAAAAAAAMA/AAAAAAAAwD8AAAAAAADAPwAAAAAAAMA/AAAAAAAAwD8AAAAAAADAPwAAAAAAAMA/AAAAAAAAwD8AAAAAAADAPwAAAAAAAMA/AAAAAAAAwD8AAAAAAADAPwAAAAAAAMA/AAAAAAAAwD8AAAAAAADAPwAAAAAAAMA/AAAAAAAAwD8AAAAAAADAPwAAAAAAAMA/AAAAAAAAwD8AAAAAAADAPwAAAAAAAMA/AAAAAAAAwD8AAAAAAADAPwAAAAAAAMA/AAAAAAAAwD8AAAAAAADAPwAAAAAAAMA/AAAAAAAAwD8AAAAAAADAPwAAAAAAAMA/AAAAAAAAwD8AAAAAAADAPwAAAAAAAMA/AAAAAAAAwD8AAAAAAADAPwAAAAAAAMA/AAAAAAAAwD8AAAAAAADAPwAAAAAAAMA/AAAAAAAAwD8AAAAAAADAPwAAAAAAAMA/AAAAAAAAwD8AAAAAAADAPwAAAAAAAMA/AAAAAAAAwD8AAAAAAADAPwAAAAAAAMA/AAAAAAAAwD8AAAAAAADAPwAAAAAAAMA/AAAAAAAAwD8AAAAAAADAPwAAAAAAAMA/AAAAAAAAwD8AAAAAAADAPwAAAAAAAMA/AAAAAAAAwD8AAAAAAADAPwAAAAAAAMA/AAAAAAAAwD8AAAAAAADAPwAAAAAAAMA/AAAAAAAAwD8AAAAAAADAPwAAAAAAAMA/AAAAAAAAwD8AAAAAAADAPwAAAAAAAMA/AAAAAAAAwD8AAAAAAADAPwAAAAAAAMA/AAAAAAAAwD8AAAAAAADAPwAAAAAAAMA/AAAAAAAAwD8AAAAAAADAPwAAAAAAAMA/AAAAAAAAwD8AAAAAAADAPwAAAAAAAMA/AAAAAAAAwD8AAAAAAADAPwAAAAAAAMA/AAAAAAAAwD8AAAAAAADAPwAAAAAAAMA/AAAAAAAAwD8AAAAAAADAPwAAAAAAAMA/AAAAAAAAwD8AAAAAAADAPwAAAAAAAMA/AAAAAAAAwD8AAAAAAADAPwAAAAAAAMA/AAAAAAAAwD8AAAAAAADAPwAAAAAAAMA/AAAAAAAAwD8AAAAAAADAPwAAAAAAAMA/AAAAAAAAwD8AAAAAAADAPwAAAAAAAMA/AAAAAAAAwD8AAAAAAADAPwAAAAAAAMA/AAAAAAAAwD8AAAAAAADAPwAAAAAAAMA/AAAAAAAAwD8AAAAAAADAPwAAAAAAAMA/AAAAAAAAwD8AAAAAAADAPwAAAAAAAMA/AAAAAAAAwD8=\",\"dtype\":\"float64\",\"order\":\"little\",\"shape\":[676]},\"end_time\":{\"__ndarray__\":\"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\",\"dtype\":\"float64\",\"order\":\"little\",\"shape\":[676]},\"fill_alpha\":{\"__ndarray__\":\"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\",\"dtype\":\"float64\",\"order\":\"little\",\"shape\":[676]},\"index\":[105,106,107,108,109,110,111,112,113,114,115,116,117,118,119,120,121,122,123,124,125,126,127,128,129,130,131,132,133,134,135,136,137,138,139,140,141,142,143,144,145,146,147,148,149,150,151,152,153,154,155,156,157,158,159,160,161,162,163,164,165,166,167,168,169,170,171,172,173,174,175,176,177,178,179,180,181,182,183,184,185,186,187,188,189,190,191,192,193,194,195,196,197,198,199,200,201,202,203,204,205,206,207,208,209,210,211,212,213,214,215,216,217,218,219,220,221,222,223,224,225,226,227,228,229,230,231,232,233,234,235,236,237,238,239,240,241,242,243,244,245,246,247,248,249,250,251,252,253,254,255,256,257,258,259,260,261,262,263,264,265,266,267,268,269,270,271,272,273,274,275,276,277,278,279,280,281,282,283,284,285,373,374,375,376,377,378,379,380,381,382,383,384,385,386,387,388,389,390,391,392,393,394,395,396,397,398,399,400,401,402,403,404,405,406,407,408,409,410,411,412,413,414,415,416,417,418,419,420,421,422,423,424,425,426,427,428,429,430,431,432,433,434,435,436,437,438,439,440,441,442,443,444,445,446,447,448,449,450,451,452,453,454,455,456,457,458,459,460,461,462,463,464,465,466,467,468,469,470,471,472,473,474,475,476,477,478,479,480,481,482,483,484,485,486,487,488,489,490,491,492,493,494,495,496,497,498,499,500,501,502,503,504,505,506,507,508,509,510,511,512,513,514,515,516,517,518,519,520,521,522,523,524,525,526,527,528,529,530,531,532,533,534,535,536,537,538,539,540,541,542,543,544,545,546,547,548,549,550,551,552,553,554,555,556,557,558,559,560,561,562,563,564,565,566,567,568,569,570,571,572,573,574,575,576,577,578,579,580,581,582,583,584,585,586,702,703,704,705,706,707,708,709,710,711,712,713,714,715,716,717,718,719,720,721,722,723,724,725,726,727,728,729,730,731,732,733,734,735,736,737,738,739,740,741,742,743,744,745,746,747,748,749,750,751,752,753,754,755,756,757,758,759,760,761,762,763,764,765,766,767,768,769,770,771,772,773,774,775,776,777,778,779,780,781,782,783,784,785,786,787,788,789,790,791,792,793,794,795,796,797,798,799,800,801,802,803,804,805,806,807,808,809,810,811,812,813,814,815,816,817,818,819,820,821,822,823,824,825,826,827,828,829,830,831,832,833,834,835,836,837,838,839,840,841,842,843,844,845,846,847,848,849,850,851,852,853,854,855,856,857,858,859,860,861,862,863,864,865,866,867,868,869,870,871,872,873,874,875,876,877,878,879,880,881,882,883,884,885,886,887,888,889,890,891,892,893,894,895,896,897,898,899,900,901,902,903,904,905,906,907,908,909,910,911,912,913,914,915,916,917,918,919,920,921,922,923,924,925,926,927,928,929,930,931,932,933,934,935,936,937,938,939,940,941,942,943,944,945,946,947,948,949,950,951,952,953,954,955,956,957,958,959,960,961,962,963,964,965,966,967,968,969,970,971,972,973,974,975,976,977,978,979,980,981,982],\"instrument\":[9,9,9,9,9,9,9,9,9,9,9,9,9,9,9,9,9,9,9,9,9,9,9,9,9,9,9,9,9,9,9,9,9,9,9,9,9,9,9,9,9,9,9,9,9,9,9,9,9,9,9,9,9,9,9,9,9,9,9,9,9,9,9,9,9,9,9,9,9,9,9,9,9,9,9,9,9,9,9,9,9,9,9,9,9,9,9,9,9,9,9,9,9,9,9,9,9,9,9,9,9,9,9,9,9,9,9,9,9,9,9,9,9,9,9,9,9,9,9,9,9,9,9,9,9,9,9,9,9,9,9,9,9,9,9,9,9,9,9,9,9,9,9,9,9,9,9,9,9,9,9,9,9,9,9,9,9,9,9,9,9,9,9,9,9,9,9,9,9,9,9,9,9,9,9,9,9,9,9,9,9,9,9,9,9,9,9,9,9,9,9,9,9,9,9,9,9,9,9,9,9,9,9,9,9,9,9,9,9,9,9,9,9,9,9,9,9,9,9,9,9,9,9,9,9,9,9,9,9,9,9,9,9,9,9,9,9,9,9,9,9,9,9,9,9,9,9,9,9,9,9,9,9,9,9,9,9,9,9,9,9,9,9,9,9,9,9,9,9,9,9,9,9,9,9,9,9,9,9,9,9,9,9,9,9,9,9,9,9,9,9,9,9,9,9,9,9,9,9,9,9,9,9,9,9,9,9,9,9,9,9,9,9,9,9,9,9,9,9,9,9,9,9,9,9,9,9,9,9,9,9,9,9,9,9,9,9,9,9,9,9,9,9,9,9,9,9,9,9,9,9,9,9,9,9,9,9,9,9,9,9,9,9,9,9,9,9,9,9,9,9,9,9,9,9,9,9,9,9,9,9,9,9,9,9,9,9,9,9,9,9,9,9,9,9,9,9,9,9,9,9,9,9,9,9,9,9,9,9,9,9,9,9,9,9,9,9,9,9,9,9,9,9,9,9,9,9,9,9,9,9,9,9,9,9,9,9,9,9,9,9,9,9,9,9,9,9,9,9,9,9,9,9,9,9,9,9,9,9,9,9,9,9,9,9,9,9,9,9,9,9,9,9,9,9,9,9,9,9,9,9,9,9,9,9,9,9,9,9,9,9,9,9,9,9,9,9,9,9,9,9,9,9,9,9,9,9,9,9,9,9,9,9,9,9,9,9,9,9,9,9,9,9,9,9,9,9,9,9,9,9,9,9,9,9,9,9,9,9,9,9,9,9,9,9,9,9,9,9,9,9,9,9,9,9,9,9,9,9,9,9,9,9,9,9,9,9,9,9,9,9,9,9,9,9,9,9,9,9,9,9,9,9,9,9,9,9,9,9,9,9,9,9,9,9,9,9,9,9,9,9,9,9,9,9,9,9,9,9,9,9,9,9,9,9,9,9,9,9,9,9,9,9,9,9,9,9,9,9,9,9,9,9,9,9,9,9,9,9,9,9,9,9,9,9,9,9,9,9,9,9,9,9,9,9,9,9,9,9,9,9,9,9,9,9,9,9,9,9,9,9,9,9,9,9,9],\"pitch\":[51,36,51,51,38,51,51,51,51,38,51,36,51,36,51,51,38,51,51,51,51,38,51,36,51,36,51,51,38,51,51,51,51,38,51,36,51,36,51,51,38,51,51,51,51,38,51,36,51,36,51,51,38,51,51,51,51,38,51,36,51,36,51,51,38,51,51,51,51,38,51,36,51,36,51,51,38,51,51,51,51,38,51,36,51,36,51,51,38,51,51,51,51,38,51,36,51,36,51,51,38,51,51,51,36,51,38,51,36,51,36,51,51,38,51,51,51,51,38,51,36,51,36,51,51,38,51,51,36,51,51,38,51,51,36,51,51,38,51,51,51,51,38,51,36,49,36,38,51,51,51,51,38,51,36,51,36,51,51,38,51,36,51,36,51,51,38,51,51,36,51,51,38,51,45,51,36,51,51,38,51,42,50,46,42,42,46,42,50,42,50,46,36,42,38,42,36,42,36,38,36,42,42,36,42,38,42,36,36,42,38,38,42,42,36,42,51,38,42,36,36,42,38,51,36,46,36,42,38,42,36,36,42,36,38,36,46,42,51,36,42,38,42,36,42,36,42,36,38,36,42,51,36,36,42,38,42,42,36,36,42,36,38,42,36,36,46,36,42,38,42,36,42,42,36,38,36,42,51,36,51,36,42,38,42,51,36,46,42,36,51,38,36,51,46,36,36,42,51,38,42,36,42,36,38,36,46,42,51,36,42,51,38,36,42,51,36,42,51,36,38,42,51,36,36,42,51,42,38,51,42,36,42,51,36,38,36,46,42,51,51,36,42,51,38,42,36,49,36,51,42,49,38,36,49,42,51,36,51,36,42,51,51,38,42,51,36,51,36,51,42,51,38,46,36,42,36,42,49,42,51,42,51,38,51,51,36,42,42,51,38,36,51,46,36,42,42,42,42,42,42,42,42,51,51,36,42,42,42,46,42,36,42,46,42,42,42,46,42,36,42,46,42,38,42,46,42,36,36,42,46,42,36,38,42,36,46,42,36,36,42,46,42,38,42,46,42,36,36,42,46,42,36,38,42,36,46,42,36,36,42,46,42,38,42,46,42,36,36,42,46,42,36,38,42,36,46,42,36,36,42,46,42,38,42,46,42,36,42,46,42,38,42,36,46,42,36,36,42,46,42,38,42,46,42,36,36,42,46,42,36,38,42,36,46,42,36,36,42,46,42,38,42,46,42,36,36,42,46,42,36,38,42,36,46,42,36,36,42,46,42,38,42,46,42,36,36,42,46,42,36,38,42,36,46,42,36,36,42,46,42,38,42,46,42,36,42,46,42,36,38,42,36,46,42,36,36,42,46,42,38,42,46,42,36,36,42,46,42,36,38,42,36,46,42,36,36,42,46,42,38,42,46,42,36,42,46,42,36,38,42,36,46,42,36,36,42,46,42,38,42,46,42,36,36,42,46,42,36,38,42,36,46,42,36,36,46,42,46,42,38,42,46,42,36,36,42,46,42,36,38,42,36,46,42,36,36,42,46,42,38,42,46,42,36,36,42,46,42,36,38,42,36,46,42,36],\"program\":[0,0,0,0,0,0,0,0,0,0,0,0,0,0,0,0,0,0,0,0,0,0,0,0,0,0,0,0,0,0,0,0,0,0,0,0,0,0,0,0,0,0,0,0,0,0,0,0,0,0,0,0,0,0,0,0,0,0,0,0,0,0,0,0,0,0,0,0,0,0,0,0,0,0,0,0,0,0,0,0,0,0,0,0,0,0,0,0,0,0,0,0,0,0,0,0,0,0,0,0,0,0,0,0,0,0,0,0,0,0,0,0,0,0,0,0,0,0,0,0,0,0,0,0,0,0,0,0,0,0,0,0,0,0,0,0,0,0,0,0,0,0,0,0,0,0,0,0,0,0,0,0,0,0,0,0,0,0,0,0,0,0,0,0,0,0,0,0,0,0,0,0,0,0,0,0,0,0,0,0,0,0,0,0,0,0,0,0,0,0,0,0,0,0,0,0,0,0,0,0,0,0,0,0,0,0,0,0,0,0,0,0,0,0,0,0,0,0,0,0,0,0,0,0,0,0,0,0,0,0,0,0,0,0,0,0,0,0,0,0,0,0,0,0,0,0,0,0,0,0,0,0,0,0,0,0,0,0,0,0,0,0,0,0,0,0,0,0,0,0,0,0,0,0,0,0,0,0,0,0,0,0,0,0,0,0,0,0,0,0,0,0,0,0,0,0,0,0,0,0,0,0,0,0,0,0,0,0,0,0,0,0,0,0,0,0,0,0,0,0,0,0,0,0,0,0,0,0,0,0,0,0,0,0,0,0,0,0,0,0,0,0,0,0,0,0,0,0,0,0,0,0,0,0,0,0,0,0,0,0,0,0,0,0,0,0,0,0,0,0,0,0,0,0,0,0,0,0,0,0,0,0,0,0,0,0,0,0,0,0,0,0,0,0,0,0,0,0,0,0,0,0,0,0,0,0,0,0,0,0,0,0,0,0,0,0,0,0,0,0,0,0,0,0,0,0,0,0,0,0,0,0,0,0,0,0,0,0,0,0,0,0,0,0,0,0,0,0,0,0,0,0,0,0,0,0,0,0,0,0,0,0,0,0,0,0,0,0,0,0,0,0,0,0,0,0,0,0,0,0,0,0,0,0,0,0,0,0,0,0,0,0,0,0,0,0,0,0,0,0,0,0,0,0,0,0,0,0,0,0,0,0,0,0,0,0,0,0,0,0,0,0,0,0,0,0,0,0,0,0,0,0,0,0,0,0,0,0,0,0,0,0,0,0,0,0,0,0,0,0,0,0,0,0,0,0,0,0,0,0,0,0,0,0,0,0,0,0,0,0,0,0,0,0,0,0,0,0,0,0,0,0,0,0,0,0,0,0,0,0,0,0,0,0,0,0,0,0,0,0,0,0,0,0,0,0,0,0,0,0,0,0,0,0,0,0,0,0,0,0,0,0,0,0,0,0,0,0,0,0,0,0,0,0,0,0,0,0,0,0,0,0,0,0,0,0,0,0,0,0,0,0,0,0,0,0,0,0,0,0,0,0,0,0,0,0,0,0,0,0,0,0,0,0,0,0],\"start_time\":{\"__ndarray__\":\"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\",\"dtype\":\"float64\",\"order\":\"little\",\"shape\":[676]},\"top\":{\"__ndarray__\":\"MzMzMzOzSUAzMzMzMzNCQDMzMzMzs0lAMzMzMzOzSUAzMzMzMzNDQDMzMzMzs0lAMzMzMzOzSUAzMzMzM7NJQDMzMzMzs0lAMzMzMzMzQ0AzMzMzM7NJQDMzMzMzM0JAMzMzMzOzSUAzMzMzMzNCQDMzMzMzs0lAMzMzMzOzSUAzMzMzMzNDQDMzMzMzs0lAMzMzMzOzSUAzMzMzM7NJQDMzMzMzs0lAMzMzMzMzQ0AzMzMzM7NJQDMzMzMzM0JAMzMzMzOzSUAzMzMzMzNCQDMzMzMzs0lAMzMzMzOzSUAzMzMzMzNDQDMzMzMzs0lAMzMzMzOzSUAzMzMzM7NJQDMzMzMzs0lAMzMzMzMzQ0AzMzMzM7NJQDMzMzMzM0JAMzMzMzOzSUAzMzMzMzNCQDMzMzMzs0lAMzMzMzOzSUAzMzMzMzNDQDMzMzMzs0lAMzMzMzOzSUAzMzMzM7NJQDMzMzMzs0lAMzMzMzMzQ0AzMzMzM7NJQDMzMzMzM0JAMzMzMzOzSUAzMzMzMzNCQDMzMzMzs0lAMzMzMzOzSUAzMzMzMzNDQDMzMzMzs0lAMzMzMzOzSUAzMzMzM7NJQDMzMzMzs0lAMzMzMzMzQ0AzMzMzM7NJQDMzMzMzM0JAMzMzMzOzSUAzMzMzMzNCQDMzMzMzs0lAMzMzMzOzSUAzMzMzMzNDQDMzMzMzs0lAMzMzMzOzSUAzMzMzM7NJQDMzMzMzs0lAMzMzMzMzQ0AzMzMzM7NJQDMzMzMzM0JAMzMzMzOzSUAzMzMzMzNCQDMzMzMzs0lAMzMzMzOzSUAzMzMzMzNDQDMzMzMzs0lAMzMzMzOzSUAzMzMzM7NJQDMzMzMzs0lAMzMzMzMzQ0AzMzMzM7NJQDMzMzMzM0JAMzMzMzOzSUAzMzMzMzNCQDMzMzMzs0lAMzMzMzOzSUAzMzMzMzNDQDMzMzMzs0lAMzMzMzOzSUAzMzMzM7NJQDMzMzMzs0lAMzMzMzMzQ0AzMzMzM7NJQDMzMzMzM0JAMzMzMzOzSUAzMzMzMzNCQDMzMzMzs0lAMzMzMzOzSUAzMzMzMzNDQDMzMzMzs0lAMzMzMzOzSUAzMzMzM7NJQDMzMzMzM0JAMzMzMzOzSUAzMzMzMzNDQDMzMzMzs0lAMzMzMzMzQkAzMzMzM7NJQDMzMzMzM0JAMzMzMzOzSUAzMzMzM7NJQDMzMzMzM0NAMzMzMzOzSUAzMzMzM7NJQDMzMzMzs0lAMzMzMzOzSUAzMzMzMzNDQDMzMzMzs0lAMzMzMzMzQkAzMzMzM7NJQDMzMzMzM0JAMzMzMzOzSUAzMzMzM7NJQDMzMzMzM0NAMzMzMzOzSUAzMzMzM7NJQDMzMzMzM0JAMzMzMzOzSUAzMzMzM7NJQDMzMzMzM0NAMzMzMzOzSUAzMzMzM7NJQDMzMzMzM0JAMzMzMzOzSUAzMzMzM7NJQDMzMzMzM0NAMzMzMzOzSUAzMzMzM7NJQDMzMzMzs0lAMzMzMzOzSUAzMzMzMzNDQDMzMzMzs0lAMzMzMzMzQkAzMzMzM7NIQDMzMzMzM0JAMzMzMzMzQ0AzMzMzM7NJQDMzMzMzs0lAMzMzMzOzSUAzMzMzM7NJQDMzMzMzM0NAMzMzMzOzSUAzMzMzMzNCQDMzMzMzs0lAMzMzMzMzQkAzMzMzM7NJQDMzMzMzs0lAMzMzMzMzQ0AzMzMzM7NJQDMzMzMzM0JAMzMzMzOzSUAzMzMzMzNCQDMzMzMzs0lAMzMzMzOzSUAzMzMzMzNDQDMzMzMzs0lAMzMzMzOzSUAzMzMzMzNCQDMzMzMzs0lAMzMzMzOzSUAzMzMzMzNDQDMzMzMzs0lAMzMzMzOzRkAzMzMzM7NJQDMzMzMzM0JAMzMzMzOzSUAzMzMzM7NJQDMzMzMzM0NAMzMzMzOzSUAzMzMzMzNFQDMzMzMzM0lAMzMzMzMzR0AzMzMzMzNFQDMzMzMzM0VAMzMzMzMzR0AzMzMzMzNFQDMzMzMzM0lAMzMzMzMzRUAzMzMzMzNJQDMzMzMzM0dAMzMzMzMzQkAzMzMzMzNFQDMzMzMzM0NAMzMzMzMzRUAzMzMzMzNCQDMzMzMzM0VAMzMzMzMzQkAzMzMzMzNDQDMzMzMzM0JAMzMzMzMzRUAzMzMzMzNFQDMzMzMzM0JAMzMzMzMzRUAzMzMzMzNDQDMzMzMzM0VAMzMzMzMzQkAzMzMzMzNCQDMzMzMzM0VAMzMzMzMzQ0AzMzMzMzNDQDMzMzMzM0VAMzMzMzMzRUAzMzMzMzNCQDMzMzMzM0VAMzMzMzOzSUAzMzMzMzNDQDMzMzMzM0VAMzMzMzMzQkAzMzMzMzNCQDMzMzMzM0VAMzMzMzMzQ0AzMzMzM7NJQDMzMzMzM0JAMzMzMzMzR0AzMzMzMzNCQDMzMzMzM0VAMzMzMzMzQ0AzMzMzMzNFQDMzMzMzM0JAMzMzMzMzQkAzMzMzMzNFQDMzMzMzM0JAMzMzMzMzQ0AzMzMzMzNCQDMzMzMzM0dAMzMzMzMzRUAzMzMzM7NJQDMzMzMzM0JAMzMzMzMzRUAzMzMzMzNDQDMzMzMzM0VAMzMzMzMzQkAzMzMzMzNFQDMzMzMzM0JAMzMzMzMzRUAzMzMzMzNCQDMzMzMzM0NAMzMzMzMzQkAzMzMzMzNFQDMzMzMzs0lAMzMzMzMzQkAzMzMzMzNCQDMzMzMzM0VAMzMzMzMzQ0AzMzMzMzNFQDMzMzMzM0VAMzMzMzMzQkAzMzMzMzNCQDMzMzMzM0VAMzMzMzMzQkAzMzMzMzNDQDMzMzMzM0VAMzMzMzMzQkAzMzMzMzNCQDMzMzMzM0dAMzMzMzMzQkAzMzMzMzNFQDMzMzMzM0NAMzMzMzMzRUAzMzMzMzNCQDMzMzMzM0VAMzMzMzMzRUAzMzMzMzNCQDMzMzMzM0NAMzMzMzMzQkAzMzMzMzNFQDMzMzMzs0lAMzMzMzMzQkAzMzMzM7NJQDMzMzMzM0JAMzMzMzMzRUAzMzMzMzNDQDMzMzMzM0VAMzMzMzOzSUAzMzMzMzNCQDMzMzMzM0dAMzMzMzMzRUAzMzMzMzNCQDMzMzMzs0lAMzMzMzMzQ0AzMzMzMzNCQDMzMzMzs0lAMzMzMzMzR0AzMzMzMzNCQDMzMzMzM0JAMzMzMzMzRUAzMzMzM7NJQDMzMzMzM0NAMzMzMzMzRUAzMzMzMzNCQDMzMzMzM0VAMzMzMzMzQkAzMzMzMzNDQDMzMzMzM0JAMzMzMzMzR0AzMzMzMzNFQDMzMzMzs0lAMzMzMzMzQkAzMzMzMzNFQDMzMzMzs0lAMzMzMzMzQ0AzMzMzMzNCQDMzMzMzM0VAMzMzMzOzSUAzMzMzMzNCQDMzMzMzM0VAMzMzMzOzSUAzMzMzMzNCQDMzMzMzM0NAMzMzMzMzRUAzMzMzM7NJQDMzMzMzM0JAMzMzMzMzQkAzMzMzMzNFQDMzMzMzs0lAMzMzMzMzRUAzMzMzMzNDQDMzMzMzs0lAMzMzMzMzRUAzMzMzMzNCQDMzMzMzM0VAMzMzMzOzSUAzMzMzMzNCQDMzMzMzM0NAMzMzMzMzQkAzMzMzMzNHQDMzMzMzM0VAMzMzMzOzSUAzMzMzM7NJQDMzMzMzM0JAMzMzMzMzRUAzMzMzM7NJQDMzMzMzM0NAMzMzMzMzRUAzMzMzMzNCQDMzMzMzs0hAMzMzMzMzQkAzMzMzM7NJQDMzMzMzM0VAMzMzMzOzSEAzMzMzMzNDQDMzMzMzM0JAMzMzMzOzSEAzMzMzMzNFQDMzMzMzs0lAMzMzMzMzQkAzMzMzM7NJQDMzMzMzM0JAMzMzMzMzRUAzMzMzM7NJQDMzMzMzs0lAMzMzMzMzQ0AzMzMzMzNFQDMzMzMzs0lAMzMzMzMzQkAzMzMzM7NJQDMzMzMzM0JAMzMzMzOzSUAzMzMzMzNFQDMzMzMzs0lAMzMzMzMzQ0AzMzMzMzNHQDMzMzMzM0JAMzMzMzMzRUAzMzMzMzNCQDMzMzMzM0VAMzMzMzOzSEAzMzMzMzNFQDMzMzMzs0lAMzMzMzMzRUAzMzMzM7NJQDMzMzMzM0NAMzMzMzOzSUAzMzMzM7NJQDMzMzMzM0JAMzMzMzMzRUAzMzMzMzNFQDMzMzMzs0lAMzMzMzMzQ0AzMzMzMzNCQDMzMzMzs0lAMzMzMzMzR0AzMzMzMzNCQDMzMzMzM0VAMzMzMzMzRUAzMzMzMzNFQDMzMzMzM0VAMzMzMzMzRUAzMzMzMzNFQDMzMzMzM0VAMzMzMzMzRUAzMzMzM7NJQDMzMzMzs0lAMzMzMzMzQkAzMzMzMzNFQDMzMzMzM0VAMzMzMzMzRUAzMzMzMzNHQDMzMzMzM0VAMzMzMzMzQkAzMzMzMzNFQDMzMzMzM0dAMzMzMzMzRUAzMzMzMzNFQDMzMzMzM0VAMzMzMzMzR0AzMzMzMzNFQDMzMzMzM0JAMzMzMzMzRUAzMzMzMzNHQDMzMzMzM0VAMzMzMzMzQ0AzMzMzMzNFQDMzMzMzM0dAMzMzMzMzRUAzMzMzMzNCQDMzMzMzM0JAMzMzMzMzRUAzMzMzMzNHQDMzMzMzM0VAMzMzMzMzQkAzMzMzMzNDQDMzMzMzM0VAMzMzMzMzQkAzMzMzMzNHQDMzMzMzM0VAMzMzMzMzQkAzMzMzMzNCQDMzMzMzM0VAMzMzMzMzR0AzMzMzMzNFQDMzMzMzM0NAMzMzMzMzRUAzMzMzMzNHQDMzMzMzM0VAMzMzMzMzQkAzMzMzMzNCQDMzMzMzM0VAMzMzMzMzR0AzMzMzMzNFQDMzMzMzM0JAMzMzMzMzQ0AzMzMzMzNFQDMzMzMzM0JAMzMzMzMzR0AzMzMzMzNFQDMzMzMzM0JAMzMzMzMzQkAzMzMzMzNFQDMzMzMzM0dAMzMzMzMzRUAzMzMzMzNDQDMzMzMzM0VAMzMzMzMzR0AzMzMzMzNFQDMzMzMzM0JAMzMzMzMzQkAzMzMzMzNFQDMzMzMzM0dAMzMzMzMzRUAzMzMzMzNCQDMzMzMzM0NAMzMzMzMzRUAzMzMzMzNCQDMzMzMzM0dAMzMzMzMzRUAzMzMzMzNCQDMzMzMzM0JAMzMzMzMzRUAzMzMzMzNHQDMzMzMzM0VAMzMzMzMzQ0AzMzMzMzNFQDMzMzMzM0dAMzMzMzMzRUAzMzMzMzNCQDMzMzMzM0VAMzMzMzMzR0AzMzMzMzNFQDMzMzMzM0NAMzMzMzMzRUAzMzMzMzNCQDMzMzMzM0dAMzMzMzMzRUAzMzMzMzNCQDMzMzMzM0JAMzMzMzMzRUAzMzMzMzNHQDMzMzMzM0VAMzMzMzMzQ0AzMzMzMzNFQDMzMzMzM0dAMzMzMzMzRUAzMzMzMzNCQDMzMzMzM0JAMzMzMzMzRUAzMzMzMzNHQDMzMzMzM0VAMzMzMzMzQkAzMzMzMzNDQDMzMzMzM0VAMzMzMzMzQkAzMzMzMzNHQDMzMzMzM0VAMzMzMzMzQkAzMzMzMzNCQDMzMzMzM0VAMzMzMzMzR0AzMzMzMzNFQDMzMzMzM0NAMzMzMzMzRUAzMzMzMzNHQDMzMzMzM0VAMzMzMzMzQkAzMzMzMzNCQDMzMzMzM0VAMzMzMzMzR0AzMzMzMzNFQDMzMzMzM0JAMzMzMzMzQ0AzMzMzMzNFQDMzMzMzM0JAMzMzMzMzR0AzMzMzMzNFQDMzMzMzM0JAMzMzMzMzQkAzMzMzMzNFQDMzMzMzM0dAMzMzMzMzRUAzMzMzMzNDQDMzMzMzM0VAMzMzMzMzR0AzMzMzMzNFQDMzMzMzM0JAMzMzMzMzQkAzMzMzMzNFQDMzMzMzM0dAMzMzMzMzRUAzMzMzMzNCQDMzMzMzM0NAMzMzMzMzRUAzMzMzMzNCQDMzMzMzM0dAMzMzMzMzRUAzMzMzMzNCQDMzMzMzM0JAMzMzMzMzRUAzMzMzMzNHQDMzMzMzM0VAMzMzMzMzQ0AzMzMzMzNFQDMzMzMzM0dAMzMzMzMzRUAzMzMzMzNCQDMzMzMzM0VAMzMzMzMzR0AzMzMzMzNFQDMzMzMzM0JAMzMzMzMzQ0AzMzMzMzNFQDMzMzMzM0JAMzMzMzMzR0AzMzMzMzNFQDMzMzMzM0JAMzMzMzMzQkAzMzMzMzNFQDMzMzMzM0dAMzMzMzMzRUAzMzMzMzNDQDMzMzMzM0VAMzMzMzMzR0AzMzMzMzNFQDMzMzMzM0JAMzMzMzMzQkAzMzMzMzNFQDMzMzMzM0dAMzMzMzMzRUAzMzMzMzNCQDMzMzMzM0NAMzMzMzMzRUAzMzMzMzNCQDMzMzMzM0dAMzMzMzMzRUAzMzMzMzNCQDMzMzMzM0JAMzMzMzMzRUAzMzMzMzNHQDMzMzMzM0VAMzMzMzMzQ0AzMzMzMzNFQDMzMzMzM0dAMzMzMzMzRUAzMzMzMzNCQDMzMzMzM0VAMzMzMzMzR0AzMzMzMzNFQDMzMzMzM0JAMzMzMzMzQ0AzMzMzMzNFQDMzMzMzM0JAMzMzMzMzR0AzMzMzMzNFQDMzMzMzM0JAMzMzMzMzQkAzMzMzMzNFQDMzMzMzM0dAMzMzMzMzRUAzMzMzMzNDQDMzMzMzM0VAMzMzMzMzR0AzMzMzMzNFQDMzMzMzM0JAMzMzMzMzQkAzMzMzMzNFQDMzMzMzM0dAMzMzMzMzRUAzMzMzMzNCQDMzMzMzM0NAMzMzMzMzRUAzMzMzMzNCQDMzMzMzM0dAMzMzMzMzRUAzMzMzMzNCQDMzMzMzM0JAMzMzMzMzR0AzMzMzMzNFQDMzMzMzM0dAMzMzMzMzRUAzMzMzMzNDQDMzMzMzM0VAMzMzMzMzR0AzMzMzMzNFQDMzMzMzM0JAMzMzMzMzQkAzMzMzMzNFQDMzMzMzM0dAMzMzMzMzRUAzMzMzMzNCQDMzMzMzM0NAMzMzMzMzRUAzMzMzMzNCQDMzMzMzM0dAMzMzMzMzRUAzMzMzMzNCQDMzMzMzM0JAMzMzMzMzRUAzMzMzMzNHQDMzMzMzM0VAMzMzMzMzQ0AzMzMzMzNFQDMzMzMzM0dAMzMzMzMzRUAzMzMzMzNCQDMzMzMzM0JAMzMzMzMzRUAzMzMzMzNHQDMzMzMzM0VAMzMzMzMzQkAzMzMzMzNDQDMzMzMzM0VAMzMzMzMzQkAzMzMzMzNHQDMzMzMzM0VAMzMzMzMzQkA=\",\"dtype\":\"float64\",\"order\":\"little\",\"shape\":[676]},\"velocity\":[80,80,80,80,80,80,80,80,80,80,80,80,80,80,80,80,80,80,80,80,80,80,80,80,80,80,80,80,80,80,80,80,80,80,80,80,80,80,80,80,80,80,80,80,80,80,80,80,80,80,80,80,80,80,80,80,80,80,80,80,80,80,80,80,80,80,80,80,80,80,80,80,80,80,80,80,80,80,80,80,80,80,80,80,80,80,80,80,80,80,80,80,80,80,80,80,80,80,80,80,80,80,80,80,80,80,80,80,80,80,80,80,80,80,80,80,80,80,80,80,80,80,80,80,80,80,80,80,80,80,80,80,80,80,80,80,80,80,80,80,80,80,80,80,80,80,80,80,80,80,80,80,80,80,80,80,80,80,80,80,80,80,80,80,80,80,80,80,80,80,80,80,80,80,80,80,80,80,80,80,80,80,80,80,80,80,80,80,80,80,80,80,80,80,80,80,80,80,80,80,80,80,80,80,80,80,80,80,80,80,80,80,80,80,80,80,80,80,80,80,80,80,80,80,80,80,80,80,80,80,80,80,80,80,80,80,80,80,80,80,80,80,80,80,80,80,80,80,80,80,80,80,80,80,80,80,80,80,80,80,80,80,80,80,80,80,80,80,80,80,80,80,80,80,80,80,80,80,80,80,80,80,80,80,80,80,80,80,80,80,80,80,80,80,80,80,80,80,80,80,80,80,80,80,80,80,80,80,80,80,80,80,80,80,80,80,80,80,80,80,80,80,80,80,80,80,80,80,80,80,80,80,80,80,80,80,80,80,80,80,80,80,80,80,80,80,80,80,80,80,80,80,80,80,80,80,80,80,80,80,80,80,80,80,80,80,80,80,80,80,80,80,80,80,80,80,80,80,80,80,80,80,80,80,80,80,80,80,80,80,80,80,80,80,80,80,80,80,80,80,80,80,80,80,80,80,80,80,80,80,80,80,80,80,80,80,80,80,80,80,80,80,80,80,80,80,80,80,80,80,80,80,80,80,80,80,80,80,80,80,80,80,80,80,80,80,80,80,80,80,80,80,80,80,80,80,80,80,80,80,80,80,80,80,80,80,80,80,80,80,80,80,80,80,80,80,80,80,80,80,80,80,80,80,80,80,80,80,80,80,80,80,80,80,80,80,80,80,80,80,80,80,80,80,80,80,80,80,80,80,80,80,80,80,80,80,80,80,80,80,80,80,80,80,80,80,80,80,80,80,80,80,80,80,80,80,80,80,80,80,80,80,80,80,80,80,80,80,80,80,80,80,80,80,80,80,80,80,80,80,80,80,80,80,80,80,80,80,80,80,80,80,80,80,80,80,80,80,80,80,80,80,80,80,80,80,80,80,80,80,80,80,80,80,80,80,80,80,80,80,80,80,80,80,80,80,80,80,80,80,80,80,80,80,80,80,80,80,80,80,80,80,80,80,80,80,80,80,80,80,80,80,80,80,80,80,80,80,80,80,80,80,80,80,80,80,80,80,80,80,80,80,80,80,80,80,80,80,80,80,80,80,80,80,80,80,80,80,80,80,80,80,80,80,80,80]},\"selected\":{\"id\":\"1061\"},\"selection_policy\":{\"id\":\"1062\"}},\"id\":\"1045\",\"type\":\"ColumnDataSource\"},{\"attributes\":{\"axis_label\":\"pitch (MIDI)\",\"formatter\":{\"id\":\"1055\"},\"ticker\":{\"id\":\"1030\"}},\"id\":\"1014\",\"type\":\"LinearAxis\"},{\"attributes\":{\"data_source\":{\"id\":\"1039\"},\"glyph\":{\"id\":\"1041\"},\"hover_glyph\":null,\"muted_glyph\":null,\"nonselection_glyph\":{\"id\":\"1042\"},\"selection_glyph\":null,\"view\":{\"id\":\"1044\"}},\"id\":\"1043\",\"type\":\"GlyphRenderer\"},{\"attributes\":{\"bottom\":{\"field\":\"bottom\"},\"fill_alpha\":{\"value\":0.1},\"fill_color\":{\"value\":\"#3288bd\"},\"left\":{\"field\":\"start_time\"},\"line_alpha\":{\"value\":0.1},\"right\":{\"field\":\"end_time\"},\"top\":{\"field\":\"top\"}},\"id\":\"1042\",\"type\":\"Quad\"},{\"attributes\":{\"axis\":{\"id\":\"1014\"},\"dimension\":1,\"ticker\":{\"id\":\"1032\"}},\"id\":\"1017\",\"type\":\"Grid\"},{\"attributes\":{\"bottom\":{\"field\":\"bottom\"},\"fill_alpha\":{\"field\":\"fill_alpha\"},\"fill_color\":{\"value\":\"#3288bd\"},\"left\":{\"field\":\"start_time\"},\"right\":{\"field\":\"end_time\"},\"top\":{\"field\":\"top\"}},\"id\":\"1041\",\"type\":\"Quad\"},{\"attributes\":{},\"id\":\"1022\",\"type\":\"SaveTool\"},{\"attributes\":{\"bottom\":{\"field\":\"bottom\"},\"fill_alpha\":{\"value\":0.1},\"fill_color\":{\"value\":\"#d53e4f\"},\"left\":{\"field\":\"start_time\"},\"line_alpha\":{\"value\":0.1},\"right\":{\"field\":\"end_time\"},\"top\":{\"field\":\"top\"}},\"id\":\"1036\",\"type\":\"Quad\"},{\"attributes\":{\"source\":{\"id\":\"1045\"}},\"id\":\"1050\",\"type\":\"CDSView\"},{\"attributes\":{},\"id\":\"1021\",\"type\":\"ResetTool\"},{\"attributes\":{},\"id\":\"1055\",\"type\":\"BasicTickFormatter\"},{\"attributes\":{\"interval\":12},\"id\":\"1032\",\"type\":\"SingleIntervalTicker\"},{\"attributes\":{\"overlay\":{\"id\":\"1023\"}},\"id\":\"1020\",\"type\":\"BoxZoomTool\"},{\"attributes\":{},\"id\":\"1011\",\"type\":\"BasicTicker\"},{\"attributes\":{},\"id\":\"1019\",\"type\":\"PanTool\"},{\"attributes\":{},\"id\":\"1054\",\"type\":\"BasicTickFormatter\"},{\"attributes\":{\"data\":{\"bottom\":{\"__ndarray__\":\"ZmZmZmbmWkDNzMzMzExKQGZmZmZmJlBAZmZmZmamUUBmZmZmZiZTQGZmZmZmplFAZmZmZmamUEDNzMzMzMxOQGZmZmZmZlBAzczMzMzMS0DNzMzMzExNQM3MzMzMzE5AzczMzMzMT0BmZmZmZmZRQGZmZmZmJlFAZmZmZmamUEDNzMzMzExNQM3MzMzMzE5AzczMzMzMTkBmZmZmZqZRQGZmZmZmZlJAZmZmZmZmUkBmZmZmZqZQQGZmZmZm5lFAZmZmZmamU0BmZmZmZmZSQGZmZmZmplFAZmZmZmbmUUDNzMzMzExNQGZmZmZmJlFAZmZmZmYmV0BmZmZmZqZXQGZmZmZmZlhAZmZmZmYmVEBmZmZmZmZWQGZmZmZmJldAZmZmZmZmVkBmZmZmZmZWQGZmZmZmZlZAZmZmZmZmVkBmZmZmZmZUQGZmZmZmZlRAZmZmZmZmU0BmZmZmZqZSQGZmZmZmplNAZmZmZmbmUkBmZmZmZuZSQGZmZmZmJlRAZmZmZmYmVEBmZmZmZqZTQGZmZmZm5lJAZmZmZmZmUkBmZmZmZmZTQGZmZmZm5lJAZmZmZmamVEBmZmZmZqZUQGZmZmZmJlVAZmZmZmZmVUBmZmZmZmZTQM3MzMzMzE5AZmZmZmamUEBmZmZmZmZSQGZmZmZmZlJAZmZmZmamU0DNzMzMzMxPQGZmZmZmplBAZmZmZmYmUUBmZmZmZmZSQGZmZmZmZlJAZmZmZmZmUkBmZmZmZqZQQGZmZmZm5lJAZmZmZmZmUkBmZmZmZmZSQGZmZmZmJlJAZmZmZmZmUkBmZmZmZiZUQGZmZmZmJlRAZmZmZmamU0BmZmZmZiZTQGZmZmZmJlNAZmZmZmZmUkBmZmZmZmZSQGZmZmZmJlRAZmZmZmamU0BmZmZmZiZTQGZmZmZmZlJAZmZmZmbmUUBmZmZmZqZRQGZmZmZmplBAZmZmZmamUEBmZmZmZiZQQM3MzMzMzE5AZmZmZmamUEBmZmZmZuZRQGZmZmZmZlFAZmZmZmbmUUBmZmZmZuZRQGZmZmZmZlFAZmZmZmYmUUBmZmZmZqZQQGZmZmZmplBAZmZmZmZmUUBmZmZmZmZSQGZmZmZm5lFAZmZmZmYmUkBmZmZmZuZRQGZmZmZmplNAZmZmZmamU0BmZmZmZmZSQGZmZmZmZlFAZmZmZmamU0BmZmZmZiZTQGZmZmZmJlNAZmZmZmamU0BmZmZmZmZSQGZmZmZmJlFAZmZmZmbmUUBmZmZmZmZSQGZmZmZmplBAZmZmZmZmUUBmZmZmZuZRQGZmZmZmZlJAZmZmZmbmUUBmZmZmZqZTQGZmZmZmJlNAZmZmZmamUEBmZmZmZmZRQGZmZmZmZlFAZmZmZmZmUkBmZmZmZmZRQGZmZmZm5lFAZmZmZmbmUUBmZmZmZqZTQGZmZmZmJlNAZmZmZmZmUkBmZmZmZmZSQA==\",\"dtype\":\"float64\",\"order\":\"little\",\"shape\":[137]},\"duration\":{\"__ndarray__\":\"AAAAAAAAwD8AAAAAAADAPwAAAAAAAMA/AAAAAAAAwD8AAAAAAADAPwAAAAAAAMA/AAAAAAAAwD8AAAAAAADAPwAAAAAAAAVAAAAAAAAAwD8AAAAAAADAPwAAAAAAAMA/AAAAAAAA0D8AAAAAAADQPwAAAAAAANA/AAAAAAAA0D8AAAAAAAAIQAAAAAAAAMA/AAAAAAAA0D8AAAAAAADAPwAAAAAAAARAAAAAAAAAwD8AAAAAAADQPwAAAAAAANA/AAAAAAAA0D8AAAAAAAD4PwAAAAAAAPI/AAAAAAAAwD8AAAAAAADAPwAAAAAAAPA/AAAAAAAAwD8AAAAAAADAPwAAAAAAAMA/AAAAAAAA4D8AAAAAAADAPwAAAAAAAMA/AAAAAAAAwD8AAAAAAADAPwAAAAAAAMA/AAAAAAAAwD8AAAAAAADAPwAAAAAAAMA/AAAAAAAAwD8AAAAAAADAPwAAAAAAANA/AAAAAAAA0D8AAAAAAADAPwAAAAAAAMA/AAAAAAAA0D8AAAAAAADAPwAAAAAAANA/AAAAAAAAwD8AAAAAAADYPwAAAAAAAOQ/AAAAAAAA2D8AAAAAAADQPwAAAAAAAOA/AAAAAAAABEAAAAAAAAACQAAAAAAAAPA/AAAAAAAA0D8AAAAAAADAPwAAAAAAAMA/AAAAAAAAwD8AAAAAAADAPwAAAAAAAOQ/AAAAAAAAwD8AAAAAAADwPwAAAAAAANA/AAAAAAAA0D8AAAAAAADQPwAAAAAAANA/AAAAAAAA8D8AAAAAAADgPwAAAAAAAMA/AAAAAAAAwD8AAAAAAADAPwAAAAAAANg/AAAAAAAA2D8AAAAAAADQPwAAAAAAAMA/AAAAAAAA8D8AAAAAAADAPwAAAAAAAMA/AAAAAAAAwD8AAAAAAADwPwAAAAAAANA/AAAAAAAAwD8AAAAAAADQPwAAAAAAAMA/AAAAAAAAwD8AAAAAAADAPwAAAAAAAMA/AAAAAAAA0D8AAAAAAADAPwAAAAAAAMA/AAAAAAAA0D8AAAAAAADAPwAAAAAAAMA/AAAAAAAAwD8AAAAAAADYPwAAAAAAAMA/AAAAAAAAwD8AAAAAAADQPwAAAAAAANA/AAAAAAAAwD8AAAAAAADAPwAAAAAAAMA/AAAAAAAAwD8AAAAAAADAPwAAAAAAAMA/AAAAAAAAwD8AAAAAAADAPwAAAAAAAMA/AAAAAAAAwD8AAAAAAADYPwAAAAAAAMA/AAAAAAAAwD8AAAAAAADsPwAAAAAAAMA/AAAAAAAA2D8AAAAAAADAPwAAAAAAANA/AAAAAAAAwD8AAAAAAADQPwAAAAAAAOw/AAAAAAAAwD8AAAAAAADAPwAAAAAAAMA/AAAAAAAA2D8AAAAAAADAPwAAAAAAAMA/AAAAAAAA2D8AAAAAAADYPwAAAAAAAOA/AAAAAAAA8D8AAAAAAADAPw==\",\"dtype\":\"float64\",\"order\":\"little\",\"shape\":[137]},\"end_time\":{\"__ndarray__\":\"AAAAAAAA8j8AAAAAAAD0PwAAAAAAAPY/AAAAAAAA+D8AAAAAAAD6PwAAAAAAAPw/AAAAAAAA/j8AAAAAAAAAQAAAAAAAgBJAAAAAAAAAE0AAAAAAAIATQAAAAAAAABRAAAAAAAAAFUAAAAAAAAAWQAAAAAAAABdAAAAAAAAAGEAAAAAAAAAiQAAAAAAAwCJAAAAAAACAI0AAAAAAAMAjQAAAAAAAAClAAAAAAABAK0AAAAAAAAAsQAAAAAAAgCxAAAAAAAAALUAAAAAAAAAwQAAAAAAAIDFAAAAAAADgMUAAAAAAAAAyQAAAAAAAADNAAAAAAAAgM0AAAAAAAEAzQAAAAAAAYDNAAAAAAADgM0AAAAAAAAA0QAAAAAAAIDRAAAAAAACANEAAAAAAAKA0QAAAAAAA4DRAAAAAAAAgNUAAAAAAAIA1QAAAAAAAoDVAAAAAAADANUAAAAAAAOA1QAAAAAAAQDZAAAAAAACANkAAAAAAAKA2QAAAAAAA4DZAAAAAAABAN0AAAAAAAGA3QAAAAAAAwDdAAAAAAADgN0AAAAAAAGA4QAAAAAAAADlAAAAAAABgOkAAAAAAAMA6QAAAAAAAQDtAAAAAAADAPUAAAAAAAABAQAAAAAAAgEFAAAAAAABgQkAAAAAAAJBCQAAAAAAAsEJAAAAAAADwQkAAAAAAAPBDQAAAAAAAQERAAAAAAADwREAAAAAAAHBFQAAAAAAAIEhAAAAAAABASEAAAAAAAGBIQAAAAAAAgEhAAAAAAACASUAAAAAAAMBJQAAAAAAA4EpAAAAAAADwSkAAAAAAABBLQAAAAAAAcEtAAAAAAACwS0AAAAAAAOBLQAAAAAAAAExAAAAAAACATEAAAAAAAPBMQAAAAAAA0E5AAAAAAADwTkAAAAAAAHBPQAAAAAAAEFFAAAAAAAAoUUAAAAAAAEBRQAAAAAAAWFFAAAAAAABoUUAAAAAAAHBRQAAAAAAAeFFAAAAAAACQUUAAAAAAAMhRQAAAAAAA4FFAAAAAAADwUUAAAAAAAABSQAAAAAAACFJAAAAAAAAYUkAAAAAAADhSQAAAAAAA6FJAAAAAAAD4UkAAAAAAABBTQAAAAAAAMFNAAAAAAAA4U0AAAAAAAEBTQAAAAAAAWFNAAAAAAABgU0AAAAAAAKBTQAAAAAAAOFVAAAAAAABIVUAAAAAAAFhVQAAAAAAAaFVAAAAAAAB4VUAAAAAAAJhVQAAAAAAA8FVAAAAAAAD4VUAAAAAAADBWQAAAAAAAOFZAAAAAAABQVkAAAAAAAFhWQAAAAAAAcFZAAAAAAAB4VkAAAAAAAJBWQAAAAAAAyFZAAAAAAADgVkAAAAAAAOhWQAAAAAAA8FZAAAAAAAAQV0AAAAAAAChXQAAAAAAAOFdAAAAAAABYV0AAAAAAAHBXQAAAAAAAkFdAAAAAAADQV0AAAAAAAPhXQA==\",\"dtype\":\"float64\",\"order\":\"little\",\"shape\":[137]},\"fill_alpha\":{\"__ndarray__\":\"AAAAAAAA8D8AAAAAAADwPwAAAAAAAPA/AAAAAAAA8D8AAAAAAADwPwAAAAAAAPA/AAAAAAAA8D8AAAAAAADwPwAAAAAAAPA/AAAAAAAA8D8AAAAAAADwPwAAAAAAAPA/AAAAAAAA8D8AAAAAAADwPwAAAAAAAPA/AAAAAAAA8D8AAAAAAADwPwAAAAAAAPA/AAAAAAAA8D8AAAAAAADwPwAAAAAAAPA/AAAAAAAA8D8AAAAAAADwPwAAAAAAAPA/AAAAAAAA8D8AAAAAAADwPwAAAAAAAPA/AAAAAAAA8D8AAAAAAADwPwAAAAAAAPA/AAAAAAAA8D8AAAAAAADwPwAAAAAAAPA/AAAAAAAA8D8AAAAAAADwPwAAAAAAAPA/AAAAAAAA8D8AAAAAAADwPwAAAAAAAPA/AAAAAAAA8D8AAAAAAADwPwAAAAAAAPA/AAAAAAAA8D8AAAAAAADwPwAAAAAAAPA/AAAAAAAA8D8AAAAAAADwPwAAAAAAAPA/AAAAAAAA8D8AAAAAAADwPwAAAAAAAPA/AAAAAAAA8D8AAAAAAADwPwAAAAAAAPA/AAAAAAAA8D8AAAAAAADwPwAAAAAAAPA/AAAAAAAA8D8AAAAAAADwPwAAAAAAAPA/AAAAAAAA8D8AAAAAAADwPwAAAAAAAPA/AAAAAAAA8D8AAAAAAADwPwAAAAAAAPA/AAAAAAAA8D8AAAAAAADwPwAAAAAAAPA/AAAAAAAA8D8AAAAAAADwPwAAAAAAAPA/AAAAAAAA8D8AAAAAAADwPwAAAAAAAPA/AAAAAAAA8D8AAAAAAADwPwAAAAAAAPA/AAAAAAAA8D8AAAAAAADwPwAAAAAAAPA/AAAAAAAA8D8AAAAAAADwPwAAAAAAAPA/AAAAAAAA8D8AAAAAAADwPwAAAAAAAPA/AAAAAAAA8D8AAAAAAADwPwAAAAAAAPA/AAAAAAAA8D8AAAAAAADwPwAAAAAAAPA/AAAAAAAA8D8AAAAAAADwPwAAAAAAAPA/AAAAAAAA8D8AAAAAAADwPwAAAAAAAPA/AAAAAAAA8D8AAAAAAADwPwAAAAAAAPA/AAAAAAAA8D8AAAAAAADwPwAAAAAAAPA/AAAAAAAA8D8AAAAAAADwPwAAAAAAAPA/AAAAAAAA8D8AAAAAAADwPwAAAAAAAPA/AAAAAAAA8D8AAAAAAADwPwAAAAAAAPA/AAAAAAAA8D8AAAAAAADwPwAAAAAAAPA/AAAAAAAA8D8AAAAAAADwPwAAAAAAAPA/AAAAAAAA8D8AAAAAAADwPwAAAAAAAPA/AAAAAAAA8D8AAAAAAADwPwAAAAAAAPA/AAAAAAAA8D8AAAAAAADwPwAAAAAAAPA/AAAAAAAA8D8AAAAAAADwPwAAAAAAAPA/AAAAAAAA8D8AAAAAAADwPwAAAAAAAPA/AAAAAAAA8D8AAAAAAADwPw==\",\"dtype\":\"float64\",\"order\":\"little\",\"shape\":[137]},\"index\":[0,1,2,3,4,5,6,7,8,9,10,11,12,13,14,15,16,17,18,19,20,21,22,23,24,25,26,27,28,29,30,31,32,33,34,35,36,37,38,39,40,41,42,43,44,45,46,47,48,49,50,51,52,53,54,55,56,57,58,286,287,288,289,290,291,292,293,294,295,296,297,298,299,300,301,302,303,304,305,306,307,308,309,310,311,312,587,588,589,590,591,592,593,594,595,596,597,598,599,600,601,602,603,604,605,606,607,608,609,610,611,612,613,614,615,616,617,618,619,620,621,622,623,624,625,626,627,628,629,630,631,632,633,634,635,636,637],\"instrument\":[0,0,0,0,0,0,0,0,0,0,0,0,0,0,0,0,0,0,0,0,0,0,0,0,0,0,0,0,0,0,0,0,0,0,0,0,0,0,0,0,0,0,0,0,0,0,0,0,0,0,0,0,0,0,0,0,0,0,0,0,0,0,0,0,0,0,0,0,0,0,0,0,0,0,0,0,0,0,0,0,0,0,0,0,0,0,0,0,0,0,0,0,0,0,0,0,0,0,0,0,0,0,0,0,0,0,0,0,0,0,0,0,0,0,0,0,0,0,0,0,0,0,0,0,0,0,0,0,0,0,0,0,0,0,0,0,0],\"pitch\":[108,53,65,71,77,71,67,62,66,56,59,62,64,70,69,67,59,62,62,71,74,74,67,72,79,74,71,72,59,69,93,95,98,81,90,93,90,90,90,90,82,82,78,75,79,76,76,81,81,79,76,74,78,76,83,83,85,86,78,62,67,74,74,79,64,67,69,74,74,74,67,76,74,74,73,74,81,81,79,77,77,74,74,81,79,77,74,72,71,67,67,65,62,67,72,70,72,72,70,69,67,67,70,74,72,73,72,79,79,74,70,79,77,77,79,74,69,72,74,67,70,72,74,72,79,77,67,70,70,74,70,72,72,79,77,74,74],\"program\":[0,0,0,0,0,0,0,0,0,0,0,0,0,0,0,0,0,0,0,0,0,0,0,0,0,0,0,0,0,0,0,0,0,0,0,0,0,0,0,0,0,0,0,0,0,0,0,0,0,0,0,0,0,0,0,0,0,0,0,0,0,0,0,0,0,0,0,0,0,0,0,0,0,0,0,0,0,0,0,0,0,0,0,0,0,0,0,0,0,0,0,0,0,0,0,0,0,0,0,0,0,0,0,0,0,0,0,0,0,0,0,0,0,0,0,0,0,0,0,0,0,0,0,0,0,0,0,0,0,0,0,0,0,0,0,0,0],\"start_time\":{\"__ndarray__\":\"AAAAAAAA8D8AAAAAAADyPwAAAAAAAPQ/AAAAAAAA9j8AAAAAAAD4PwAAAAAAAPo/AAAAAAAA/D8AAAAAAAD+PwAAAAAAAABAAAAAAACAEkAAAAAAAAATQAAAAAAAgBNAAAAAAAAAFEAAAAAAAAAVQAAAAAAAABZAAAAAAAAAF0AAAAAAAAAYQAAAAAAAgCJAAAAAAAAAI0AAAAAAAIAjQAAAAAAAACRAAAAAAAAAK0AAAAAAAIArQAAAAAAAACxAAAAAAACALEAAAAAAAAAtQAAAAAAAADBAAAAAAADAMUAAAAAAAOAxQAAAAAAAADJAAAAAAAAAM0AAAAAAACAzQAAAAAAAQDNAAAAAAABgM0AAAAAAAOAzQAAAAAAAADRAAAAAAABgNEAAAAAAAIA0QAAAAAAAwDRAAAAAAAAANUAAAAAAAGA1QAAAAAAAgDVAAAAAAACgNUAAAAAAAMA1QAAAAAAAADZAAAAAAABANkAAAAAAAIA2QAAAAAAAwDZAAAAAAAAAN0AAAAAAAEA3QAAAAAAAgDdAAAAAAADAN0AAAAAAAAA4QAAAAAAAYDhAAAAAAAAAOkAAAAAAAIA6QAAAAAAAwDpAAAAAAABAO0AAAAAAAMA9QAAAAAAAAEFAAAAAAABAQkAAAAAAAIBCQAAAAAAAoEJAAAAAAADgQkAAAAAAAOBDQAAAAAAA8ENAAAAAAADgREAAAAAAAPBEQAAAAAAAAEhAAAAAAAAgSEAAAAAAAEBIQAAAAAAAYEhAAAAAAAAASUAAAAAAAIBJQAAAAAAA0EpAAAAAAADgSkAAAAAAAABLQAAAAAAAQEtAAAAAAACAS0AAAAAAAMBLQAAAAAAA8EtAAAAAAAAATEAAAAAAAOBMQAAAAAAAwE5AAAAAAADgTkAAAAAAAPBOQAAAAAAAAFFAAAAAAAAgUUAAAAAAADBRQAAAAAAAUFFAAAAAAABgUUAAAAAAAGhRQAAAAAAAcFFAAAAAAACAUUAAAAAAAMBRQAAAAAAA2FFAAAAAAADgUUAAAAAAAPhRQAAAAAAAAFJAAAAAAAAQUkAAAAAAACBSQAAAAAAA4FJAAAAAAADwUkAAAAAAAABTQAAAAAAAIFNAAAAAAAAwU0AAAAAAADhTQAAAAAAAUFNAAAAAAABYU0AAAAAAAJhTQAAAAAAAMFVAAAAAAABAVUAAAAAAAFBVQAAAAAAAYFVAAAAAAABwVUAAAAAAAIBVQAAAAAAA6FVAAAAAAADwVUAAAAAAAPhVQAAAAAAAMFZAAAAAAAA4VkAAAAAAAFBWQAAAAAAAYFZAAAAAAABwVkAAAAAAAIBWQAAAAAAAkFZAAAAAAADYVkAAAAAAAOBWQAAAAAAA6FZAAAAAAAD4VkAAAAAAACBXQAAAAAAAMFdAAAAAAABAV0AAAAAAAFhXQAAAAAAAcFdAAAAAAACQV0AAAAAAAPBXQA==\",\"dtype\":\"float64\",\"order\":\"little\",\"shape\":[137]},\"top\":{\"__ndarray__\":\"mpmZmZkZW0AzMzMzM7NKQJqZmZmZWVBAmpmZmZnZUUCamZmZmVlTQJqZmZmZ2VFAmpmZmZnZUEAzMzMzMzNPQJqZmZmZmVBAMzMzMzMzTEAzMzMzM7NNQDMzMzMzM09AmpmZmZkZUECamZmZmZlRQJqZmZmZWVFAmpmZmZnZUEAzMzMzM7NNQDMzMzMzM09AMzMzMzMzT0CamZmZmdlRQJqZmZmZmVJAmpmZmZmZUkCamZmZmdlQQJqZmZmZGVJAmpmZmZnZU0CamZmZmZlSQJqZmZmZ2VFAmpmZmZkZUkAzMzMzM7NNQJqZmZmZWVFAmpmZmZlZV0CamZmZmdlXQJqZmZmZmVhAmpmZmZlZVECamZmZmZlWQJqZmZmZWVdAmpmZmZmZVkCamZmZmZlWQJqZmZmZmVZAmpmZmZmZVkCamZmZmZlUQJqZmZmZmVRAmpmZmZmZU0CamZmZmdlSQJqZmZmZ2VNAmpmZmZkZU0CamZmZmRlTQJqZmZmZWVRAmpmZmZlZVECamZmZmdlTQJqZmZmZGVNAmpmZmZmZUkCamZmZmZlTQJqZmZmZGVNAmpmZmZnZVECamZmZmdlUQJqZmZmZWVVAmpmZmZmZVUCamZmZmZlTQDMzMzMzM09AmpmZmZnZUECamZmZmZlSQJqZmZmZmVJAmpmZmZnZU0CamZmZmRlQQJqZmZmZ2VBAmpmZmZlZUUCamZmZmZlSQJqZmZmZmVJAmpmZmZmZUkCamZmZmdlQQJqZmZmZGVNAmpmZmZmZUkCamZmZmZlSQJqZmZmZWVJAmpmZmZmZUkCamZmZmVlUQJqZmZmZWVRAmpmZmZnZU0CamZmZmVlTQJqZmZmZWVNAmpmZmZmZUkCamZmZmZlSQJqZmZmZWVRAmpmZmZnZU0CamZmZmVlTQJqZmZmZmVJAmpmZmZkZUkCamZmZmdlRQJqZmZmZ2VBAmpmZmZnZUECamZmZmVlQQDMzMzMzM09AmpmZmZnZUECamZmZmRlSQJqZmZmZmVFAmpmZmZkZUkCamZmZmRlSQJqZmZmZmVFAmpmZmZlZUUCamZmZmdlQQJqZmZmZ2VBAmpmZmZmZUUCamZmZmZlSQJqZmZmZGVJAmpmZmZlZUkCamZmZmRlSQJqZmZmZ2VNAmpmZmZnZU0CamZmZmZlSQJqZmZmZmVFAmpmZmZnZU0CamZmZmVlTQJqZmZmZWVNAmpmZmZnZU0CamZmZmZlSQJqZmZmZWVFAmpmZmZkZUkCamZmZmZlSQJqZmZmZ2VBAmpmZmZmZUUCamZmZmRlSQJqZmZmZmVJAmpmZmZkZUkCamZmZmdlTQJqZmZmZWVNAmpmZmZnZUECamZmZmZlRQJqZmZmZmVFAmpmZmZmZUkCamZmZmZlRQJqZmZmZGVJAmpmZmZkZUkCamZmZmdlTQJqZmZmZWVNAmpmZmZmZUkCamZmZmZlSQA==\",\"dtype\":\"float64\",\"order\":\"little\",\"shape\":[137]},\"velocity\":[80,80,80,80,80,80,80,80,80,80,80,80,80,80,80,80,80,80,80,80,80,80,80,80,80,80,80,80,80,80,80,80,80,80,80,80,80,80,80,80,80,80,80,80,80,80,80,80,80,80,80,80,80,80,80,80,80,80,80,80,80,80,80,80,80,80,80,80,80,80,80,80,80,80,80,80,80,80,80,80,80,80,80,80,80,80,80,80,80,80,80,80,80,80,80,80,80,80,80,80,80,80,80,80,80,80,80,80,80,80,80,80,80,80,80,80,80,80,80,80,80,80,80,80,80,80,80,80,80,80,80,80,80,80,80,80,80]},\"selected\":{\"id\":\"1057\"},\"selection_policy\":{\"id\":\"1058\"}},\"id\":\"1033\",\"type\":\"ColumnDataSource\"},{\"attributes\":{\"data_source\":{\"id\":\"1045\"},\"glyph\":{\"id\":\"1047\"},\"hover_glyph\":null,\"muted_glyph\":null,\"nonselection_glyph\":{\"id\":\"1048\"},\"selection_glyph\":null,\"view\":{\"id\":\"1050\"}},\"id\":\"1049\",\"type\":\"GlyphRenderer\"},{\"attributes\":{\"callback\":null,\"tooltips\":[[\"pitch\",\"@pitch\"],[\"program\",\"@program\"],[\"velo\",\"@velocity\"],[\"duration\",\"@duration\"],[\"start_time\",\"@start_time\"],[\"end_time\",\"@end_time\"],[\"velocity\",\"@velocity\"],[\"fill_alpha\",\"@fill_alpha\"]]},\"id\":\"1018\",\"type\":\"HoverTool\"},{\"attributes\":{\"data\":{\"bottom\":{\"__ndarray__\":\"zczMzMxMRkDNzMzMzMxCQM3MzMzMzEhAzczMzMzMSEDNzMzMzExGQM3MzMzMzEhAzczMzMxMRkDNzMzMzMxIQM3MzMzMTEVAzczMzMzMQkDNzMzMzExHQM3MzMzMTEZAzczMzMzMQkDNzMzMzExGQM3MzMzMzEJAzczMzMzMSEDNzMzMzExLQJqZmZmZmT5AzczMzMzMQUDNzMzMzMxHQM3MzMzMTEdAzczMzMxMRkDNzMzMzMxBQM3MzMzMTEVAzczMzMzMQkDNzMzMzMxCQM3MzMzMTEZAzczMzMzMQkDNzMzMzMxCQM3MzMzMzE1AzczMzMzMTkDNzMzMzMxNQM3MzMzMTExAzczMzMzMSEDNzMzMzExGQM3MzMzMzEJAzczMzMzMQkDNzMzMzMxCQM3MzMzMzEJAzczMzMzMSEDNzMzMzMxCQM3MzMzMzEhAzczMzMzMSEDNzMzMzExGQM3MzMzMzEJAzczMzMxMR0DNzMzMzMxIQM3MzMzMTEVAzczMzMxMS0DNzMzMzMxIQM3MzMzMzEhAzczMzMxMRUDNzMzMzExFQJqZmZmZmT5AzczMzMxMRUDNzMzMzExEQM3MzMzMzERAzczMzMxMRUDNzMzMzMxCQM3MzMzMTEVAzczMzMxMS0DNzMzMzMxIQM3MzMzMTEVAzczMzMxMSkDNzMzMzExLQM3MzMzMTEtAmpmZmZmZPkDNzMzMzMxCQM3MzMzMTEVAzczMzMzMQkDNzMzMzExFQM3MzMzMTEVAmpmZmZmZPkDNzMzMzMxCQM3MzMzMTERAmpmZmZmZPkCamZmZmZk+QM3MzMzMzEFAzczMzMxMRECamZmZmZk+QM3MzMzMzEJAzczMzMxMRUDNzMzMzMxCQJqZmZmZmT5AzczMzMzMRkDNzMzMzExFQM3MzMzMzEBAzczMzMzMQECamZmZmZk+QM3MzMzMzEBAzczMzMxMQUDNzMzMzExHQM3MzMzMTEVAzczMzMzMR0CamZmZmZk+QM3MzMzMTEVAzczMzMxMREDNzMzMzExFQM3MzMzMzEhAzczMzMxMS0DNzMzMzMxEQM3MzMzMzEhAzczMzMzMR0DNzMzMzMxIQM3MzMzMTEVAzczMzMzMRECamZmZmZk+QM3MzMzMzEJAmpmZmZmZPkDNzMzMzMxCQM3MzMzMzEJAzczMzMzMQUDNzMzMzMxBQM3MzMzMzEFAzczMzMzMQUDNzMzMzMxBQM3MzMzMzEFAmpmZmZmZPkCamZmZmZk+QJqZmZmZmT5AmpmZmZmZPkDNzMzMzMxCQM3MzMzMzEJAmpmZmZmZPkCamZmZmZk+QJqZmZmZmT5AmpmZmZmZPkDNzMzMzMxCQM3MzMzMzEJAzczMzMzMQkCamZmZmZk+QJqZmZmZmT5AmpmZmZmZPkCamZmZmZk+QJqZmZmZmT5AmpmZmZmZPkCamZmZmZk+QM3MzMzMzEFAzczMzMzMQUCamZmZmZk+QJqZmZmZmT5AmpmZmZmZPkCamZmZmZk+QJqZmZmZmT5AmpmZmZmZPkDNzMzMzMxCQJqZmZmZmT5AmpmZmZmZPkCamZmZmZk+QM3MzMzMTENAzczMzMzMQkDNzMzMzExDQM3MzMzMzEJAmpmZmZmZPECamZmZmZk+QJqZmZmZmT5AzczMzMxMS0DNzMzMzMxOQM3MzMzMzEhAZmZmZmamUkBmZmZmZiZUQGZmZmZmZlVAZmZmZmYmU0CamZmZmZk+QJqZmZmZmT5AmpmZmZmZPkDNzMzMzMxCQM3MzMzMzEFAzczMzMzMQkCamZmZmZk8QA==\",\"dtype\":\"float64\",\"order\":\"little\",\"shape\":[170]},\"duration\":{\"__ndarray__\":\"AAAAAAAA0D8AAAAAAAD+PwAAAAAAAPA/AAAAAAAAwD8AAAAAAADAPwAAAAAAAMA/AAAAAAAAwD8AAAAAAADQPwAAAAAAAABAAAAAAAAA8D8AAAAAAADgPwAAAAAAANA/AAAAAAAA+D8AAAAAAADgPwAAAAAAAPg/AAAAAAAA0D8AAAAAAADQPwAAAAAAAABAAAAAAAAA6D8AAAAAAADgPwAAAAAAANA/AAAAAAAA0D8AAAAAAADQPwAAAAAAAABAAAAAAAAA9D8AAAAAAADQPwAAAAAAANA/AAAAAAAA0D8AAAAAAADoPwAAAAAAANA/AAAAAAAA0D8AAAAAAADQPwAAAAAAANA/AAAAAAAA0D8AAAAAAADoPwAAAAAAAMA/AAAAAAAAwD8AAAAAAADwPwAAAAAAAOg/AAAAAAAA9D8AAAAAAADgPwAAAAAAAMA/AAAAAAAA0D8AAAAAAADAPwAAAAAAAOA/AAAAAAAAAEAAAAAAAADAPwAAAAAAANg/AAAAAAAA0D8AAAAAAADAPwAAAAAAAMA/AAAAAAAAwD8AAAAAAADAPwAAAAAAAMA/AAAAAAAAwD8AAAAAAADAPwAAAAAAAMA/AAAAAAAA2D8AAAAAAADAPwAAAAAAANA/AAAAAAAAwD8AAAAAAADAPwAAAAAAANA/AAAAAAAAwD8AAAAAAADQPwAAAAAAAOA/AAAAAAAA2D8AAAAAAADQPwAAAAAAANA/AAAAAAAA0D8AAAAAAADYPwAAAAAAAMA/AAAAAAAAwD8AAAAAAADAPwAAAAAAANA/AAAAAAAA0D8AAAAAAADQPwAAAAAAAMA/AAAAAAAA0D8AAAAAAADwPwAAAAAAAMA/AAAAAAAA0D8AAAAAAADgPwAAAAAAAOA/AAAAAAAA0D8AAAAAAADkPwAAAAAAAMA/AAAAAAAAwD8AAAAAAADgPwAAAAAAAMA/AAAAAAAA2D8AAAAAAADAPwAAAAAAANA/AAAAAAAA9D8AAAAAAADoPwAAAAAAAOg/AAAAAAAA4D8AAAAAAADoPwAAAAAAAMA/AAAAAAAAwD8AAAAAAADwPwAAAAAAANg/AAAAAAAAwD8AAAAAAADYPwAAAAAAAPA/AAAAAAAA8D8AAAAAAADQPwAAAAAAAMA/AAAAAAAAwD8AAAAAAADQPwAAAAAAAMA/AAAAAAAA0D8AAAAAAADAPwAAAAAAAMA/AAAAAAAAwD8AAAAAAADAPwAAAAAAANg/AAAAAAAA0D8AAAAAAADAPwAAAAAAAMA/AAAAAAAAwD8AAAAAAADAPwAAAAAAAOA/AAAAAAAAwD8AAAAAAADAPwAAAAAAAMA/AAAAAAAAwD8AAAAAAADAPwAAAAAAAMA/AAAAAAAAwD8AAAAAAADAPwAAAAAAAMA/AAAAAAAAwD8AAAAAAADAPwAAAAAAAMA/AAAAAAAAwD8AAAAAAADAPwAAAAAAAMA/AAAAAAAAwD8AAAAAAADAPwAAAAAAAMA/AAAAAAAAwD8AAAAAAADAPwAAAAAAAMA/AAAAAAAAwD8AAAAAAADAPwAAAAAAANA/AAAAAAAAwD8AAAAAAADQPwAAAAAAAPA/AAAAAAAA8D8AAAAAAADoPwAAAAAAAOg/AAAAAAAA0D8AAAAAAADYPwAAAAAAANA/AAAAAAAAwD8AAAAAAADAPwAAAAAAAMA/AAAAAAAA8D8AAAAAAADQPwAAAAAAANA/AAAAAAAA0D8AAAAAAADoPwAAAAAAANg/AAAAAAAA0D8AAAAAAADQPwAAAAAAAMA/AAAAAAAAwD8AAAAAAADAPw==\",\"dtype\":\"float64\",\"order\":\"little\",\"shape\":[170]},\"end_time\":{\"__ndarray__\":\"AAAAAAAAAEAAAAAAAAAPQAAAAAAAABRAAAAAAACAFEAAAAAAAAAVQAAAAAAAABZAAAAAAAAAF0AAAAAAAAAYQAAAAAAAACBAAAAAAAAAIkAAAAAAAIAjQAAAAAAAACRAAAAAAAAAJ0AAAAAAAAAoQAAAAAAAACtAAAAAAACAK0AAAAAAAAAsQAAAAAAAADBAAAAAAADAMEAAAAAAAEAxQAAAAAAAgDFAAAAAAADAMUAAAAAAAAAyQAAAAAAAADRAAAAAAABANUAAAAAAAIA1QAAAAAAAwDVAAAAAAAAANkAAAAAAAMA2QAAAAAAAADdAAAAAAABAN0AAAAAAAIA3QAAAAAAAwDdAAAAAAAAAOEAAAAAAAMA4QAAAAAAA4DhAAAAAAAAAOUAAAAAAAAA6QAAAAAAAwDpAAAAAAAAAPEAAAAAAAIA8QAAAAAAAoDxAAAAAAABAPUAAAAAAAGA9QAAAAAAAAD5AAAAAAAAAQEAAAAAAAABCQAAAAAAAMEJAAAAAAACAQkAAAAAAANBCQAAAAAAA4EJAAAAAAADwQkAAAAAAAABDQAAAAAAAEENAAAAAAABAQ0AAAAAAAGBDQAAAAAAAcENAAAAAAACgQ0AAAAAAALBDQAAAAAAAIERAAAAAAAAwREAAAAAAAHBEQAAAAAAAkERAAAAAAACgREAAAAAAAMBEQAAAAAAAAEVAAAAAAAAwRUAAAAAAAIBFQAAAAAAAoEVAAAAAAAAARkAAAAAAADBGQAAAAAAAQEZAAAAAAABwRkAAAAAAAOBGQAAAAAAAAEdAAAAAAAAgR0AAAAAAAIBHQAAAAAAA0EdAAAAAAAAASEAAAAAAAIBIQAAAAAAAoEhAAAAAAADASEAAAAAAAABJQAAAAAAAQElAAAAAAACASUAAAAAAAFBKQAAAAAAAYEpAAAAAAABwSkAAAAAAALBKQAAAAAAAwEpAAAAAAADwSkAAAAAAAABLQAAAAAAAIEtAAAAAAAAATEAAAAAAAGBMQAAAAAAAwExAAAAAAAAATUAAAAAAAGBNQAAAAAAA8E1AAAAAAAAATkAAAAAAAIBOQAAAAAAAsE5AAAAAAADQTkAAAAAAAABPQAAAAAAAgE9AAAAAAAAAUEAAAAAAABBRQAAAAAAAMFFAAAAAAAA4UUAAAAAAAFhRQAAAAAAAeFFAAAAAAACQUUAAAAAAAKBRQAAAAAAAsFFAAAAAAAC4UUAAAAAAANhRQAAAAAAAAFJAAAAAAAAQUkAAAAAAACBSQAAAAAAAMFJAAAAAAAA4UkAAAAAAAFBSQAAAAAAAeFJAAAAAAACIUkAAAAAAAKBSQAAAAAAAsFJAAAAAAAC4UkAAAAAAANBSQAAAAAAA+FJAAAAAAAAAU0AAAAAAAAhTQAAAAAAAEFNAAAAAAAAwU0AAAAAAADhTQAAAAAAAYFNAAAAAAABwU0AAAAAAAIBTQAAAAAAAiFNAAAAAAACgU0AAAAAAALBTQAAAAAAAuFNAAAAAAAAIVEAAAAAAACBUQAAAAAAAMFRAAAAAAAA4VEAAAAAAAFBUQAAAAAAAkFRAAAAAAACgVEAAAAAAAMBUQAAAAAAAQFVAAAAAAACAVUAAAAAAALBVQAAAAAAA4FVAAAAAAAAAVkAAAAAAABhWQAAAAAAAQFZAAAAAAABoVkAAAAAAAHBWQAAAAAAAgFZAAAAAAADAVkAAAAAAAOBWQAAAAAAA8FZAAAAAAAAAV0AAAAAAADBXQAAAAAAAmFdAAAAAAADAV0AAAAAAAOhXQAAAAAAA8FdAAAAAAAD4V0AAAAAAAABYQA==\",\"dtype\":\"float64\",\"order\":\"little\",\"shape\":[170]},\"fill_alpha\":{\"__ndarray__\":\"AAAAAAAA8D8AAAAAAADwPwAAAAAAAPA/AAAAAAAA8D8AAAAAAADwPwAAAAAAAPA/AAAAAAAA8D8AAAAAAADwPwAAAAAAAPA/AAAAAAAA8D8AAAAAAADwPwAAAAAAAPA/AAAAAAAA8D8AAAAAAADwPwAAAAAAAPA/AAAAAAAA8D8AAAAAAADwPwAAAAAAAPA/AAAAAAAA8D8AAAAAAADwPwAAAAAAAPA/AAAAAAAA8D8AAAAAAADwPwAAAAAAAPA/AAAAAAAA8D8AAAAAAADwPwAAAAAAAPA/AAAAAAAA8D8AAAAAAADwPwAAAAAAAPA/AAAAAAAA8D8AAAAAAADwPwAAAAAAAPA/AAAAAAAA8D8AAAAAAADwPwAAAAAAAPA/AAAAAAAA8D8AAAAAAADwPwAAAAAAAPA/AAAAAAAA8D8AAAAAAADwPwAAAAAAAPA/AAAAAAAA8D8AAAAAAADwPwAAAAAAAPA/AAAAAAAA8D8AAAAAAADwPwAAAAAAAPA/AAAAAAAA8D8AAAAAAADwPwAAAAAAAPA/AAAAAAAA8D8AAAAAAADwPwAAAAAAAPA/AAAAAAAA8D8AAAAAAADwPwAAAAAAAPA/AAAAAAAA8D8AAAAAAADwPwAAAAAAAPA/AAAAAAAA8D8AAAAAAADwPwAAAAAAAPA/AAAAAAAA8D8AAAAAAADwPwAAAAAAAPA/AAAAAAAA8D8AAAAAAADwPwAAAAAAAPA/AAAAAAAA8D8AAAAAAADwPwAAAAAAAPA/AAAAAAAA8D8AAAAAAADwPwAAAAAAAPA/AAAAAAAA8D8AAAAAAADwPwAAAAAAAPA/AAAAAAAA8D8AAAAAAADwPwAAAAAAAPA/AAAAAAAA8D8AAAAAAADwPwAAAAAAAPA/AAAAAAAA8D8AAAAAAADwPwAAAAAAAPA/AAAAAAAA8D8AAAAAAADwPwAAAAAAAPA/AAAAAAAA8D8AAAAAAADwPwAAAAAAAPA/AAAAAAAA8D8AAAAAAADwPwAAAAAAAPA/AAAAAAAA8D8AAAAAAADwPwAAAAAAAPA/AAAAAAAA8D8AAAAAAADwPwAAAAAAAPA/AAAAAAAA8D8AAAAAAADwPwAAAAAAAPA/AAAAAAAA8D8AAAAAAADwPwAAAAAAAPA/AAAAAAAA8D8AAAAAAADwPwAAAAAAAPA/AAAAAAAA8D8AAAAAAADwPwAAAAAAAPA/AAAAAAAA8D8AAAAAAADwPwAAAAAAAPA/AAAAAAAA8D8AAAAAAADwPwAAAAAAAPA/AAAAAAAA8D8AAAAAAADwPwAAAAAAAPA/AAAAAAAA8D8AAAAAAADwPwAAAAAAAPA/AAAAAAAA8D8AAAAAAADwPwAAAAAAAPA/AAAAAAAA8D8AAAAAAADwPwAAAAAAAPA/AAAAAAAA8D8AAAAAAADwPwAAAAAAAPA/AAAAAAAA8D8AAAAAAADwPwAAAAAAAPA/AAAAAAAA8D8AAAAAAADwPwAAAAAAAPA/AAAAAAAA8D8AAAAAAADwPwAAAAAAAPA/AAAAAAAA8D8AAAAAAADwPwAAAAAAAPA/AAAAAAAA8D8AAAAAAADwPwAAAAAAAPA/AAAAAAAA8D8AAAAAAADwPwAAAAAAAPA/AAAAAAAA8D8AAAAAAADwPwAAAAAAAPA/AAAAAAAA8D8AAAAAAADwPwAAAAAAAPA/AAAAAAAA8D8AAAAAAADwPwAAAAAAAPA/AAAAAAAA8D8AAAAAAADwPwAAAAAAAPA/AAAAAAAA8D8AAAAAAADwPwAAAAAAAPA/AAAAAAAA8D8AAAAAAADwPw==\",\"dtype\":\"float64\",\"order\":\"little\",\"shape\":[170]},\"index\":[59,60,61,62,63,64,65,66,67,68,69,70,71,72,73,74,75,76,77,78,79,80,81,82,83,84,85,86,87,88,89,90,91,92,93,94,95,96,97,98,99,100,101,102,103,104,313,314,315,316,317,318,319,320,321,322,323,324,325,326,327,328,329,330,331,332,333,334,335,336,337,338,339,340,341,342,343,344,345,346,347,348,349,350,351,352,353,354,355,356,357,358,359,360,361,362,363,364,365,366,367,368,369,370,371,372,638,639,640,641,642,643,644,645,646,647,648,649,650,651,652,653,654,655,656,657,658,659,660,661,662,663,664,665,666,667,668,669,670,671,672,673,674,675,676,677,678,679,680,681,682,683,684,685,686,687,688,689,690,691,692,693,694,695,696,697,698,699,700,701],\"instrument\":[1,1,1,1,1,1,1,1,1,1,1,1,1,1,1,1,1,1,1,1,1,1,1,1,1,1,1,1,1,1,1,1,1,1,1,1,1,1,1,1,1,1,1,1,1,1,1,1,1,1,1,1,1,1,1,1,1,1,1,1,1,1,1,1,1,1,1,1,1,1,1,1,1,1,1,1,1,1,1,1,1,1,1,1,1,1,1,1,1,1,1,1,1,1,1,1,1,1,1,1,1,1,1,1,1,1,1,1,1,1,1,1,1,1,1,1,1,1,1,1,1,1,1,1,1,1,1,1,1,1,1,1,1,1,1,1,1,1,1,1,1,1,1,1,1,1,1,1,1,1,1,1,1,1,1,1,1,1,1,1,1,1,1,1,1,1,1,1,1,1],\"pitch\":[45,38,50,50,45,50,45,50,43,38,47,45,38,45,38,50,55,31,36,48,47,45,36,43,38,38,45,38,38,60,62,60,57,50,45,38,38,38,38,50,38,50,50,45,38,47,50,43,55,50,50,43,43,31,43,41,42,43,38,43,55,50,43,53,55,55,31,38,43,38,43,43,31,38,41,31,31,36,41,31,38,43,38,31,46,43,34,34,31,34,35,47,43,48,31,43,41,43,50,55,42,50,48,50,43,42,31,38,31,38,38,36,36,36,36,36,36,31,31,31,31,38,38,31,31,31,31,38,38,38,31,31,31,31,31,31,31,36,36,31,31,31,31,31,31,38,31,31,31,39,38,39,38,29,31,31,55,62,50,75,81,86,77,31,31,31,38,36,38,29],\"program\":[33,33,33,33,33,33,33,33,33,33,33,33,33,33,33,33,33,33,33,33,33,33,33,33,33,33,33,33,33,33,33,33,33,33,33,33,33,33,33,33,33,33,33,33,33,33,33,33,33,33,33,33,33,33,33,33,33,33,33,33,33,33,33,33,33,33,33,33,33,33,33,33,33,33,33,33,33,33,33,33,33,33,33,33,33,33,33,33,33,33,33,33,33,33,33,33,33,33,33,33,33,33,33,33,33,33,33,33,33,33,33,33,33,33,33,33,33,33,33,33,33,33,33,33,33,33,33,33,33,33,33,33,33,33,33,33,33,33,33,33,33,33,33,33,33,33,33,33,33,33,33,33,33,33,33,33,33,33,33,33,33,33,33,33,33,33,33,33,33,33],\"start_time\":{\"__ndarray__\":\"AAAAAAAA/D8AAAAAAAAAQAAAAAAAABBAAAAAAAAAFEAAAAAAAIAUQAAAAAAAgBVAAAAAAACAFkAAAAAAAAAXQAAAAAAAABhAAAAAAAAAIEAAAAAAAIAiQAAAAAAAgCNAAAAAAAAAJEAAAAAAAAAnQAAAAAAAAChAAAAAAAAAK0AAAAAAAIArQAAAAAAAACxAAAAAAAAAMEAAAAAAAMAwQAAAAAAAQDFAAAAAAACAMUAAAAAAAMAxQAAAAAAAADJAAAAAAAAANEAAAAAAAEA1QAAAAAAAgDVAAAAAAADANUAAAAAAAAA2QAAAAAAAwDZAAAAAAAAAN0AAAAAAAEA3QAAAAAAAgDdAAAAAAADAN0AAAAAAAAA4QAAAAAAAwDhAAAAAAADgOEAAAAAAAAA5QAAAAAAAADpAAAAAAADAOkAAAAAAAAA8QAAAAAAAgDxAAAAAAAAAPUAAAAAAAEA9QAAAAAAAgD1AAAAAAAAAPkAAAAAAAPBBQAAAAAAAAEJAAAAAAABgQkAAAAAAAMBCQAAAAAAA0EJAAAAAAADgQkAAAAAAAPBCQAAAAAAAAENAAAAAAAAwQ0AAAAAAAFBDQAAAAAAAYENAAAAAAABwQ0AAAAAAAKBDQAAAAAAAAERAAAAAAAAgREAAAAAAAGBEQAAAAAAAcERAAAAAAACQREAAAAAAAKBEQAAAAAAAwERAAAAAAAAARUAAAAAAAGBFQAAAAAAAgEVAAAAAAADgRUAAAAAAAABGQAAAAAAAMEZAAAAAAABgRkAAAAAAANBGQAAAAAAA4EZAAAAAAAAAR0AAAAAAAGBHQAAAAAAAwEdAAAAAAADgR0AAAAAAAABIQAAAAAAAkEhAAAAAAACgSEAAAAAAAMBIQAAAAAAAAElAAAAAAABgSUAAAAAAAABKQAAAAAAAUEpAAAAAAABgSkAAAAAAAHBKQAAAAAAAsEpAAAAAAADASkAAAAAAAPBKQAAAAAAAAEtAAAAAAABgS0AAAAAAAABMQAAAAAAAYExAAAAAAADATEAAAAAAAABNQAAAAAAA4E1AAAAAAADwTUAAAAAAAABOQAAAAAAAgE5AAAAAAADATkAAAAAAANBOQAAAAAAAAE9AAAAAAACAT0AAAAAAAABRQAAAAAAAKFFAAAAAAAAwUUAAAAAAAEhRQAAAAAAAcFFAAAAAAACAUUAAAAAAAJhRQAAAAAAAqFFAAAAAAACwUUAAAAAAANBRQAAAAAAA6FFAAAAAAAAAUkAAAAAAABhSQAAAAAAAKFJAAAAAAAAwUkAAAAAAAEhSQAAAAAAAWFJAAAAAAACAUkAAAAAAAJhSQAAAAAAAqFJAAAAAAACwUkAAAAAAAMhSQAAAAAAA8FJAAAAAAAD4UkAAAAAAAABTQAAAAAAACFNAAAAAAAAoU0AAAAAAADBTQAAAAAAAWFNAAAAAAABoU0AAAAAAAHhTQAAAAAAAgFNAAAAAAACYU0AAAAAAAKhTQAAAAAAAsFNAAAAAAAAAVEAAAAAAABhUQAAAAAAAKFRAAAAAAAAwVEAAAAAAAEhUQAAAAAAAgFRAAAAAAACYVEAAAAAAALBUQAAAAAAAAFVAAAAAAABAVUAAAAAAAIBVQAAAAAAAsFVAAAAAAADwVUAAAAAAAABWQAAAAAAAMFZAAAAAAABgVkAAAAAAAGhWQAAAAAAAeFZAAAAAAACAVkAAAAAAANBWQAAAAAAA4FZAAAAAAADwVkAAAAAAAABXQAAAAAAAgFdAAAAAAACwV0AAAAAAANhXQAAAAAAA6FdAAAAAAADwV0AAAAAAAPhXQA==\",\"dtype\":\"float64\",\"order\":\"little\",\"shape\":[170]},\"top\":{\"__ndarray__\":\"MzMzMzOzRkAzMzMzMzNDQDMzMzMzM0lAMzMzMzMzSUAzMzMzM7NGQDMzMzMzM0lAMzMzMzOzRkAzMzMzMzNJQDMzMzMzs0VAMzMzMzMzQ0AzMzMzM7NHQDMzMzMzs0ZAMzMzMzMzQ0AzMzMzM7NGQDMzMzMzM0NAMzMzMzMzSUAzMzMzM7NLQGZmZmZmZj9AMzMzMzMzQkAzMzMzMzNIQDMzMzMzs0dAMzMzMzOzRkAzMzMzMzNCQDMzMzMzs0VAMzMzMzMzQ0AzMzMzMzNDQDMzMzMzs0ZAMzMzMzMzQ0AzMzMzMzNDQDMzMzMzM05AMzMzMzMzT0AzMzMzMzNOQDMzMzMzs0xAMzMzMzMzSUAzMzMzM7NGQDMzMzMzM0NAMzMzMzMzQ0AzMzMzMzNDQDMzMzMzM0NAMzMzMzMzSUAzMzMzMzNDQDMzMzMzM0lAMzMzMzMzSUAzMzMzM7NGQDMzMzMzM0NAMzMzMzOzR0AzMzMzMzNJQDMzMzMzs0VAMzMzMzOzS0AzMzMzMzNJQDMzMzMzM0lAMzMzMzOzRUAzMzMzM7NFQGZmZmZmZj9AMzMzMzOzRUAzMzMzM7NEQDMzMzMzM0VAMzMzMzOzRUAzMzMzMzNDQDMzMzMzs0VAMzMzMzOzS0AzMzMzMzNJQDMzMzMzs0VAMzMzMzOzSkAzMzMzM7NLQDMzMzMzs0tAZmZmZmZmP0AzMzMzMzNDQDMzMzMzs0VAMzMzMzMzQ0AzMzMzM7NFQDMzMzMzs0VAZmZmZmZmP0AzMzMzMzNDQDMzMzMzs0RAZmZmZmZmP0BmZmZmZmY/QDMzMzMzM0JAMzMzMzOzREBmZmZmZmY/QDMzMzMzM0NAMzMzMzOzRUAzMzMzMzNDQGZmZmZmZj9AMzMzMzMzR0AzMzMzM7NFQDMzMzMzM0FAMzMzMzMzQUBmZmZmZmY/QDMzMzMzM0FAMzMzMzOzQUAzMzMzM7NHQDMzMzMzs0VAMzMzMzMzSEBmZmZmZmY/QDMzMzMzs0VAMzMzMzOzREAzMzMzM7NFQDMzMzMzM0lAMzMzMzOzS0AzMzMzMzNFQDMzMzMzM0lAMzMzMzMzSEAzMzMzMzNJQDMzMzMzs0VAMzMzMzMzRUBmZmZmZmY/QDMzMzMzM0NAZmZmZmZmP0AzMzMzMzNDQDMzMzMzM0NAMzMzMzMzQkAzMzMzMzNCQDMzMzMzM0JAMzMzMzMzQkAzMzMzMzNCQDMzMzMzM0JAZmZmZmZmP0BmZmZmZmY/QGZmZmZmZj9AZmZmZmZmP0AzMzMzMzNDQDMzMzMzM0NAZmZmZmZmP0BmZmZmZmY/QGZmZmZmZj9AZmZmZmZmP0AzMzMzMzNDQDMzMzMzM0NAMzMzMzMzQ0BmZmZmZmY/QGZmZmZmZj9AZmZmZmZmP0BmZmZmZmY/QGZmZmZmZj9AZmZmZmZmP0BmZmZmZmY/QDMzMzMzM0JAMzMzMzMzQkBmZmZmZmY/QGZmZmZmZj9AZmZmZmZmP0BmZmZmZmY/QGZmZmZmZj9AZmZmZmZmP0AzMzMzMzNDQGZmZmZmZj9AZmZmZmZmP0BmZmZmZmY/QDMzMzMzs0NAMzMzMzMzQ0AzMzMzM7NDQDMzMzMzM0NAZmZmZmZmPUBmZmZmZmY/QGZmZmZmZj9AMzMzMzOzS0AzMzMzMzNPQDMzMzMzM0lAmpmZmZnZUkCamZmZmVlUQJqZmZmZmVVAmpmZmZlZU0BmZmZmZmY/QGZmZmZmZj9AZmZmZmZmP0AzMzMzMzNDQDMzMzMzM0JAMzMzMzMzQ0BmZmZmZmY9QA==\",\"dtype\":\"float64\",\"order\":\"little\",\"shape\":[170]},\"velocity\":[80,80,80,80,80,80,80,80,80,80,80,80,80,80,80,80,80,80,80,80,80,80,80,80,80,80,80,80,80,80,80,80,80,80,80,80,80,80,80,80,80,80,80,80,80,80,80,80,80,80,80,80,80,80,80,80,80,80,80,80,80,80,80,80,80,80,80,80,80,80,80,80,80,80,80,80,80,80,80,80,80,80,80,80,80,80,80,80,80,80,80,80,80,80,80,80,80,80,80,80,80,80,80,80,80,80,80,80,80,80,80,80,80,80,80,80,80,80,80,80,80,80,80,80,80,80,80,80,80,80,80,80,80,80,80,80,80,80,80,80,80,80,80,80,80,80,80,80,80,80,80,80,80,80,80,80,80,80,80,80,80,80,80,80,80,80,80,80,80,80]},\"selected\":{\"id\":\"1059\"},\"selection_policy\":{\"id\":\"1060\"}},\"id\":\"1039\",\"type\":\"ColumnDataSource\"},{\"attributes\":{\"interval\":12},\"id\":\"1030\",\"type\":\"SingleIntervalTicker\"},{\"attributes\":{\"bottom\":{\"field\":\"bottom\"},\"fill_alpha\":{\"value\":0.1},\"fill_color\":{\"value\":\"#f46d43\"},\"left\":{\"field\":\"start_time\"},\"line_alpha\":{\"value\":0.1},\"right\":{\"field\":\"end_time\"},\"top\":{\"field\":\"top\"}},\"id\":\"1048\",\"type\":\"Quad\"},{\"attributes\":{\"bottom\":{\"field\":\"bottom\"},\"fill_alpha\":{\"field\":\"fill_alpha\"},\"fill_color\":{\"value\":\"#f46d43\"},\"left\":{\"field\":\"start_time\"},\"right\":{\"field\":\"end_time\"},\"top\":{\"field\":\"top\"}},\"id\":\"1047\",\"type\":\"Quad\"},{\"attributes\":{},\"id\":\"1057\",\"type\":\"Selection\"},{\"attributes\":{\"source\":{\"id\":\"1033\"}},\"id\":\"1038\",\"type\":\"CDSView\"},{\"attributes\":{\"data_source\":{\"id\":\"1033\"},\"glyph\":{\"id\":\"1035\"},\"hover_glyph\":null,\"muted_glyph\":null,\"nonselection_glyph\":{\"id\":\"1036\"},\"selection_glyph\":null,\"view\":{\"id\":\"1038\"}},\"id\":\"1037\",\"type\":\"GlyphRenderer\"},{\"attributes\":{},\"id\":\"1058\",\"type\":\"UnionRenderers\"},{\"attributes\":{\"active_drag\":\"auto\",\"active_inspect\":\"auto\",\"active_multi\":null,\"active_scroll\":\"auto\",\"active_tap\":\"auto\",\"tools\":[{\"id\":\"1018\"},{\"id\":\"1019\"},{\"id\":\"1020\"},{\"id\":\"1021\"},{\"id\":\"1022\"}]},\"id\":\"1024\",\"type\":\"Toolbar\"},{\"attributes\":{},\"id\":\"1059\",\"type\":\"Selection\"},{\"attributes\":{},\"id\":\"1006\",\"type\":\"LinearScale\"},{\"attributes\":{},\"id\":\"1060\",\"type\":\"UnionRenderers\"},{\"attributes\":{\"bottom\":{\"field\":\"bottom\"},\"fill_alpha\":{\"field\":\"fill_alpha\"},\"fill_color\":{\"value\":\"#d53e4f\"},\"left\":{\"field\":\"start_time\"},\"right\":{\"field\":\"end_time\"},\"top\":{\"field\":\"top\"}},\"id\":\"1035\",\"type\":\"Quad\"},{\"attributes\":{\"bottom_units\":\"screen\",\"fill_alpha\":0.5,\"fill_color\":\"lightgrey\",\"left_units\":\"screen\",\"level\":\"overlay\",\"line_alpha\":1.0,\"line_color\":\"black\",\"line_dash\":[4,4],\"line_width\":2,\"right_units\":\"screen\",\"top_units\":\"screen\"},\"id\":\"1023\",\"type\":\"BoxAnnotation\"},{\"attributes\":{},\"id\":\"1061\",\"type\":\"Selection\"},{\"attributes\":{\"source\":{\"id\":\"1039\"}},\"id\":\"1044\",\"type\":\"CDSView\"},{\"attributes\":{},\"id\":\"1062\",\"type\":\"UnionRenderers\"},{\"attributes\":{},\"id\":\"1004\",\"type\":\"DataRange1d\"},{\"attributes\":{},\"id\":\"1008\",\"type\":\"LinearScale\"},{\"attributes\":{\"axis_label\":\"time (sec)\",\"formatter\":{\"id\":\"1054\"},\"ticker\":{\"id\":\"1011\"}},\"id\":\"1010\",\"type\":\"LinearAxis\"},{\"attributes\":{\"text\":\"\"},\"id\":\"1052\",\"type\":\"Title\"},{\"attributes\":{},\"id\":\"1002\",\"type\":\"DataRange1d\"}],\"root_ids\":[\"1001\"]},\"title\":\"Bokeh Application\",\"version\":\"2.1.1\"}};\n",
              "  var render_items = [{\"docid\":\"2ff32001-7c3b-4278-a35b-f69edcda96c5\",\"root_ids\":[\"1001\"],\"roots\":{\"1001\":\"1af42624-efc5-41bb-89f4-9fdfe17f155f\"}}];\n",
              "  root.Bokeh.embed.embed_items_notebook(docs_json, render_items);\n",
              "\n",
              "  }\n",
              "  if (root.Bokeh !== undefined) {\n",
              "    embed_document(root);\n",
              "  } else {\n",
              "    var attempts = 0;\n",
              "    var timer = setInterval(function(root) {\n",
              "      if (root.Bokeh !== undefined) {\n",
              "        clearInterval(timer);\n",
              "        embed_document(root);\n",
              "      } else {\n",
              "        attempts++;\n",
              "        if (attempts > 100) {\n",
              "          clearInterval(timer);\n",
              "          console.log(\"Bokeh: ERROR: Unable to run BokehJS code because BokehJS library is missing\");\n",
              "        }\n",
              "      }\n",
              "    }, 10, root)\n",
              "  }\n",
              "})(window);"
            ],
            "application/vnd.bokehjs_exec.v0+json": ""
          },
          "metadata": {
            "tags": [],
            "application/vnd.bokehjs_exec.v0+json": {
              "id": "1001"
            }
          }
        }
      ]
    },
    {
      "cell_type": "markdown",
      "metadata": {
        "id": "OJwyF9frFFg3",
        "colab_type": "text"
      },
      "source": [
        "##Download the MIDI file for some mixing fun!"
      ]
    },
    {
      "cell_type": "code",
      "metadata": {
        "id": "llQV3IHDFVMd",
        "colab_type": "code",
        "colab": {
          "base_uri": "https://localhost:8080/",
          "height": 16
        },
        "outputId": "01bf649c-99f8-4827-961a-c82ffb3d4abf"
      },
      "source": [
        "download(trio_16bar_mean, 'your_awesome_mashup.mid')"
      ],
      "execution_count": 8,
      "outputs": [
        {
          "output_type": "display_data",
          "data": {
            "application/javascript": [
              "\n",
              "    async function download(id, filename, size) {\n",
              "      if (!google.colab.kernel.accessAllowed) {\n",
              "        return;\n",
              "      }\n",
              "      const div = document.createElement('div');\n",
              "      const label = document.createElement('label');\n",
              "      label.textContent = `Downloading \"${filename}\": `;\n",
              "      div.appendChild(label);\n",
              "      const progress = document.createElement('progress');\n",
              "      progress.max = size;\n",
              "      div.appendChild(progress);\n",
              "      document.body.appendChild(div);\n",
              "\n",
              "      const buffers = [];\n",
              "      let downloaded = 0;\n",
              "\n",
              "      const channel = await google.colab.kernel.comms.open(id);\n",
              "      // Send a message to notify the kernel that we're ready.\n",
              "      channel.send({})\n",
              "\n",
              "      for await (const message of channel.messages) {\n",
              "        // Send a message to notify the kernel that we're ready.\n",
              "        channel.send({})\n",
              "        if (message.buffers) {\n",
              "          for (const buffer of message.buffers) {\n",
              "            buffers.push(buffer);\n",
              "            downloaded += buffer.byteLength;\n",
              "            progress.value = downloaded;\n",
              "          }\n",
              "        }\n",
              "      }\n",
              "      const blob = new Blob(buffers, {type: 'application/binary'});\n",
              "      const a = document.createElement('a');\n",
              "      a.href = window.URL.createObjectURL(blob);\n",
              "      a.download = filename;\n",
              "      div.appendChild(a);\n",
              "      a.click();\n",
              "      div.remove();\n",
              "    }\n",
              "  "
            ],
            "text/plain": [
              "<IPython.core.display.Javascript object>"
            ]
          },
          "metadata": {
            "tags": []
          }
        },
        {
          "output_type": "display_data",
          "data": {
            "application/javascript": [
              "download(\"download_1f45ef6d-9309-4a57-a5a5-0cb6190c0c56\", \"your_awesome_mashup.mid\", 6128)"
            ],
            "text/plain": [
              "<IPython.core.display.Javascript object>"
            ]
          },
          "metadata": {
            "tags": []
          }
        }
      ]
    },
    {
      "cell_type": "markdown",
      "metadata": {
        "id": "Ry8Wr2DgFdBY",
        "colab_type": "text"
      },
      "source": [
        "##That's it! \n",
        "\n",
        "Again, this is a trimmed down version of the [MusicVAE Notebook ](https://colab.research.google.com/github/magenta/magenta-demos/blob/master/colab-notebooks/MusicVAE.ipynb) provided by the Magenta team.\n",
        "\n",
        "Play around with theirs, and take a peek if you want more detail. \n",
        "\n",
        "#Stay Creative"
      ]
    }
  ]
}